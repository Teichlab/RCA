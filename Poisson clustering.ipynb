{
 "cells": [
  {
   "cell_type": "code",
   "execution_count": 1,
   "metadata": {},
   "outputs": [
    {
     "name": "stdout",
     "output_type": "stream",
     "text": [
      "Populating the interactive namespace from numpy and matplotlib\n"
     ]
    }
   ],
   "source": [
    "%pylab inline\n",
    "import pandas as pd"
   ]
  },
  {
   "cell_type": "code",
   "execution_count": 2,
   "metadata": {
    "collapsed": true
   },
   "outputs": [],
   "source": [
    "counts = pd.read_csv('~/Google Drive/Research Projects/Finished/Power-analysis/Public data/GSE60768/GSE60768_umi_counts.csv', index_col=0)\n",
    "counts = counts.astype(int)\n",
    "\n",
    "sample_info = pd.DataFrame({'condition': counts.columns.str.split('_').str.get(1)}, index=counts.columns)\n",
    "\n",
    "sample_info['total_counts'] = counts.sum()\n",
    "sample_info['num_genes'] = (counts > 0).sum()\n",
    "sample_info['ERCC'] = counts[counts.index.str.startswith('ERCC-')].sum()"
   ]
  },
  {
   "cell_type": "code",
   "execution_count": 3,
   "metadata": {
    "collapsed": true
   },
   "outputs": [],
   "source": [
    "import NaiveDE"
   ]
  },
  {
   "cell_type": "code",
   "execution_count": 5,
   "metadata": {},
   "outputs": [],
   "source": [
    "exp_mat = NaiveDE.stabilize(counts)"
   ]
  },
  {
   "cell_type": "code",
   "execution_count": 33,
   "metadata": {},
   "outputs": [],
   "source": [
    "sample_info['is_nsc'] = (sample_info['condition'] == 'NSC')"
   ]
  },
  {
   "cell_type": "code",
   "execution_count": 52,
   "metadata": {},
   "outputs": [],
   "source": [
    "results = NaiveDE.lr_tests(sample_info, exp_mat, '~ is_nsc')"
   ]
  },
  {
   "cell_type": "code",
   "execution_count": 53,
   "metadata": {},
   "outputs": [
    {
     "data": {
      "text/html": [
       "<div>\n",
       "<table border=\"1\" class=\"dataframe\">\n",
       "  <thead>\n",
       "    <tr style=\"text-align: right;\">\n",
       "      <th></th>\n",
       "      <th>Intercept</th>\n",
       "      <th>is_nsc[T.True]</th>\n",
       "      <th>pval</th>\n",
       "      <th>qval</th>\n",
       "    </tr>\n",
       "  </thead>\n",
       "  <tbody>\n",
       "    <tr>\n",
       "      <th>ENSMUSG00000019874</th>\n",
       "      <td>-0.527953</td>\n",
       "      <td>1.689516</td>\n",
       "      <td>2.452534e-29</td>\n",
       "      <td>3.531649e-27</td>\n",
       "    </tr>\n",
       "    <tr>\n",
       "      <th>ENSMUSG00000001270</th>\n",
       "      <td>0.420139</td>\n",
       "      <td>1.678662</td>\n",
       "      <td>1.662159e-15</td>\n",
       "      <td>2.393509e-13</td>\n",
       "    </tr>\n",
       "    <tr>\n",
       "      <th>ENSMUSG00000017390</th>\n",
       "      <td>-0.348674</td>\n",
       "      <td>1.318489</td>\n",
       "      <td>1.601736e-20</td>\n",
       "      <td>2.306500e-18</td>\n",
       "    </tr>\n",
       "    <tr>\n",
       "      <th>ENSMUSG00000064345</th>\n",
       "      <td>1.717341</td>\n",
       "      <td>1.125318</td>\n",
       "      <td>1.045922e-05</td>\n",
       "      <td>1.506128e-03</td>\n",
       "    </tr>\n",
       "    <tr>\n",
       "      <th>ENSMUSG00000027523</th>\n",
       "      <td>0.239607</td>\n",
       "      <td>1.112670</td>\n",
       "      <td>6.673045e-11</td>\n",
       "      <td>9.609185e-09</td>\n",
       "    </tr>\n",
       "  </tbody>\n",
       "</table>\n",
       "</div>"
      ],
      "text/plain": [
       "                    Intercept  is_nsc[T.True]          pval          qval\n",
       "ENSMUSG00000019874  -0.527953        1.689516  2.452534e-29  3.531649e-27\n",
       "ENSMUSG00000001270   0.420139        1.678662  1.662159e-15  2.393509e-13\n",
       "ENSMUSG00000017390  -0.348674        1.318489  1.601736e-20  2.306500e-18\n",
       "ENSMUSG00000064345   1.717341        1.125318  1.045922e-05  1.506128e-03\n",
       "ENSMUSG00000027523   0.239607        1.112670  6.673045e-11  9.609185e-09"
      ]
     },
     "execution_count": 53,
     "metadata": {},
     "output_type": "execute_result"
    }
   ],
   "source": [
    "results.query('qval < 0.05').sort_values('is_nsc[T.True]', ascending=False).head()"
   ]
  },
  {
   "cell_type": "code",
   "execution_count": 54,
   "metadata": {},
   "outputs": [
    {
     "data": {
      "text/html": [
       "<div>\n",
       "<table border=\"1\" class=\"dataframe\">\n",
       "  <thead>\n",
       "    <tr style=\"text-align: right;\">\n",
       "      <th></th>\n",
       "      <th>Intercept</th>\n",
       "      <th>is_nsc[T.True]</th>\n",
       "      <th>pval</th>\n",
       "      <th>qval</th>\n",
       "    </tr>\n",
       "  </thead>\n",
       "  <tbody>\n",
       "    <tr>\n",
       "      <th>ENSMUSG00000060461</th>\n",
       "      <td>2.463119</td>\n",
       "      <td>-3.001469</td>\n",
       "      <td>1.138069e-20</td>\n",
       "      <td>1.638819e-18</td>\n",
       "    </tr>\n",
       "    <tr>\n",
       "      <th>ENSMUSG00000052551</th>\n",
       "      <td>1.710377</td>\n",
       "      <td>-2.248727</td>\n",
       "      <td>5.308468e-19</td>\n",
       "      <td>7.644194e-17</td>\n",
       "    </tr>\n",
       "    <tr>\n",
       "      <th>ENSMUSG00000049422</th>\n",
       "      <td>1.552164</td>\n",
       "      <td>-2.090515</td>\n",
       "      <td>4.939452e-18</td>\n",
       "      <td>7.112811e-16</td>\n",
       "    </tr>\n",
       "    <tr>\n",
       "      <th>ENSMUSG00000031762</th>\n",
       "      <td>1.406679</td>\n",
       "      <td>-1.924235</td>\n",
       "      <td>9.565416e-14</td>\n",
       "      <td>1.377420e-11</td>\n",
       "    </tr>\n",
       "    <tr>\n",
       "      <th>ENSMUSG00000004951</th>\n",
       "      <td>1.330391</td>\n",
       "      <td>-1.847947</td>\n",
       "      <td>6.491781e-17</td>\n",
       "      <td>9.348164e-15</td>\n",
       "    </tr>\n",
       "  </tbody>\n",
       "</table>\n",
       "</div>"
      ],
      "text/plain": [
       "                    Intercept  is_nsc[T.True]          pval          qval\n",
       "ENSMUSG00000060461   2.463119       -3.001469  1.138069e-20  1.638819e-18\n",
       "ENSMUSG00000052551   1.710377       -2.248727  5.308468e-19  7.644194e-17\n",
       "ENSMUSG00000049422   1.552164       -2.090515  4.939452e-18  7.112811e-16\n",
       "ENSMUSG00000031762   1.406679       -1.924235  9.565416e-14  1.377420e-11\n",
       "ENSMUSG00000004951   1.330391       -1.847947  6.491781e-17  9.348164e-15"
      ]
     },
     "execution_count": 54,
     "metadata": {},
     "output_type": "execute_result"
    }
   ],
   "source": [
    "results.query('qval < 0.05').sort_values('is_nsc[T.True]', ascending=True).head()"
   ]
  },
  {
   "cell_type": "code",
   "execution_count": 58,
   "metadata": {},
   "outputs": [
    {
     "data": {
      "image/png": "[encoded data removed]",
      "text/plain": [
       "<matplotlib.figure.Figure at 0x11c229518>"
      ]
     },
     "metadata": {},
     "output_type": "display_data"
    }
   ],
   "source": [
    "plt.loglog();\n",
    "plt.scatter(counts.loc['ENSMUSG00000019874'] + 1, counts.loc['ENSMUSG00000060461'] + 1, c=sample_info.is_nsc);"
   ]
  },
  {
   "cell_type": "code",
   "execution_count": null,
   "metadata": {
    "collapsed": true
   },
   "outputs": [],
   "source": []
  },
  {
   "cell_type": "code",
   "execution_count": 68,
   "metadata": {},
   "outputs": [
    {
     "data": {
      "image/png": "[encoded data removed]",
      "text/plain": [
       "<matplotlib.figure.Figure at 0x11c556cf8>"
      ]
     },
     "metadata": {},
     "output_type": "display_data"
    }
   ],
   "source": [
    "for i, g in sample_info.groupby('is_nsc'):\n",
    "    plt.hist(np.log10(counts[g.index].loc['ENSMUSG00000019874'] + 1));"
   ]
  },
  {
   "cell_type": "code",
   "execution_count": 69,
   "metadata": {},
   "outputs": [
    {
     "data": {
      "image/png": "[encoded data removed]",
      "text/plain": [
       "<matplotlib.figure.Figure at 0x11c64da90>"
      ]
     },
     "metadata": {},
     "output_type": "display_data"
    }
   ],
   "source": [
    "for i, g in sample_info.groupby('is_nsc'):\n",
    "    plt.hist(np.log10(counts[g.index].loc['ENSMUSG00000060461'] + 1));"
   ]
  },
  {
   "cell_type": "code",
   "execution_count": 156,
   "metadata": {
    "collapsed": true
   },
   "outputs": [],
   "source": [
    "import pickle\n",
    "\n",
    "with open('poisson_mixtures.pkl', 'rb') as fh:\n",
    "    model = pickle.load(fh)\n",
    "    \n"
   ]
  },
  {
   "cell_type": "code",
   "execution_count": 202,
   "metadata": {
    "collapsed": true
   },
   "outputs": [],
   "source": [
    "idx = counts.pipe(np.log1p).var(1).sort_values(ascending=False).head(100).index"
   ]
  },
  {
   "cell_type": "code",
   "execution_count": 224,
   "metadata": {},
   "outputs": [],
   "source": [
    "idx_s = np.random.choice(idx, 10, replace=False)"
   ]
  },
  {
   "cell_type": "code",
   "execution_count": 225,
   "metadata": {
    "collapsed": true
   },
   "outputs": [],
   "source": [
    "N = sample_info.shape[0]\n",
    "y = counts.loc[idx_s].values.T\n",
    "\n",
    "data = {\n",
    "    'K': 2,\n",
    "    'N': N,\n",
    "    'G': y.shape[1],\n",
    "    'y': y\n",
    "}"
   ]
  },
  {
   "cell_type": "code",
   "execution_count": 226,
   "metadata": {},
   "outputs": [
    {
     "name": "stderr",
     "output_type": "stream",
     "text": [
      "WARNING:pystan:Automatic Differentiation Variational Inference (ADVI) is an EXPERIMENTAL ALGORITHM.\n",
      "WARNING:pystan:ADVI samples may be found on the filesystem in the file `/var/folders/77/nmknry7s2xq79srn9rn7jf6m0000gq/T/tmpa_fw7w5u/output.csv`\n"
     ]
    }
   ],
   "source": [
    "v = model.vb(data=data, iter=1000)"
   ]
  },
  {
   "cell_type": "code",
   "execution_count": 227,
   "metadata": {
    "collapsed": true
   },
   "outputs": [],
   "source": [
    "res = pd.read_csv(v['args']['sample_file'].decode('ascii'), comment='#').dropna()\n",
    "resm = res.mean()"
   ]
  },
  {
   "cell_type": "code",
   "execution_count": 228,
   "metadata": {},
   "outputs": [
    {
     "data": {
      "text/plain": [
       "<matplotlib.collections.PathCollection at 0x125f5ad30>"
      ]
     },
     "execution_count": 228,
     "metadata": {},
     "output_type": "execute_result"
    },
    {
     "data": {
      "image/png": "[encoded data removed]",
      "text/plain": [
       "<matplotlib.figure.Figure at 0x124953710>"
      ]
     },
     "metadata": {},
     "output_type": "display_data"
    }
   ],
   "source": [
    "log_p_y = resm[resm.index.str.startswith('log_p_y')]\n",
    "plt.scatter(np.log(y + 1)[:,1], log_p_y)"
   ]
  },
  {
   "cell_type": "code",
   "execution_count": 229,
   "metadata": {},
   "outputs": [],
   "source": [
    "from sklearn.decomposition import PCA\n",
    "pca = PCA(n_components=2)"
   ]
  },
  {
   "cell_type": "code",
   "execution_count": 230,
   "metadata": {},
   "outputs": [],
   "source": [
    "YY = pca.fit_transform(exp_mat.T[idx])"
   ]
  },
  {
   "cell_type": "code",
   "execution_count": 231,
   "metadata": {},
   "outputs": [
    {
     "data": {
      "image/png": "[encoded data removed]",
      "text/plain": [
       "<matplotlib.figure.Figure at 0x12556e1d0>"
      ]
     },
     "metadata": {},
     "output_type": "display_data"
    }
   ],
   "source": [
    "plt.scatter(*YY.T, c= log_p_y);"
   ]
  },
  {
   "cell_type": "code",
   "execution_count": null,
   "metadata": {
    "collapsed": true
   },
   "outputs": [],
   "source": []
  }
 ],
 "metadata": {
  "kernelspec": {
   "display_name": "Python 3",
   "language": "python",
   "name": "python3"
  },
  "language_info": {
   "codemirror_mode": {
    "name": "ipython",
    "version": 3
   },
   "file_extension": ".py",
   "mimetype": "text/x-python",
   "name": "python",
   "nbconvert_exporter": "python",
   "pygments_lexer": "ipython3",
   "version": "3.6.0"
  }
 },
 "nbformat": 4,
 "nbformat_minor": 2
}
