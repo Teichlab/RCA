{
 "cells": [
  {
   "cell_type": "code",
   "execution_count": 1,
   "metadata": {
    "collapsed": false
   },
   "outputs": [
    {
     "name": "stdout",
     "output_type": "stream",
     "text": [
      "Populating the interactive namespace from numpy and matplotlib\n"
     ]
    }
   ],
   "source": [
    "%pylab inline\n",
    "import pandas as pd"
   ]
  },
  {
   "cell_type": "code",
   "execution_count": 2,
   "metadata": {
    "collapsed": false
   },
   "outputs": [],
   "source": [
    "sample_info = pd.read_csv('~/Google Drive/Research Projects/Finished/LysisBuffers/data_exchange/lysis-buffer-samples.csv', index_col=0)"
   ]
  },
  {
   "cell_type": "code",
   "execution_count": 3,
   "metadata": {
    "collapsed": true
   },
   "outputs": [],
   "source": [
    "tpm = pd.read_csv('~/Google Drive/Research Projects/Finished/LysisBuffers/data_exchange/lysis-buffer-tpm.csv', index_col=0)"
   ]
  },
  {
   "cell_type": "code",
   "execution_count": 4,
   "metadata": {
    "collapsed": true
   },
   "outputs": [],
   "source": [
    "logexp = np.log10(tpm + 1)\n",
    "logexp = logexp[sample_info.index]"
   ]
  },
  {
   "cell_type": "code",
   "execution_count": 5,
   "metadata": {
    "collapsed": true
   },
   "outputs": [],
   "source": [
    "import patsy"
   ]
  },
  {
   "cell_type": "code",
   "execution_count": 6,
   "metadata": {
    "collapsed": false
   },
   "outputs": [
    {
     "data": {
      "text/html": [
       "<div>\n",
       "<table border=\"1\" class=\"dataframe\">\n",
       "  <thead>\n",
       "    <tr style=\"text-align: right;\">\n",
       "      <th></th>\n",
       "      <th>21681_1#18</th>\n",
       "      <th>21681_1#32</th>\n",
       "      <th>21681_1#48</th>\n",
       "      <th>21681_1#58</th>\n",
       "      <th>21681_1#12</th>\n",
       "    </tr>\n",
       "  </thead>\n",
       "  <tbody>\n",
       "    <tr>\n",
       "      <th>detection_limit</th>\n",
       "      <td>inf</td>\n",
       "      <td>inf</td>\n",
       "      <td>inf</td>\n",
       "      <td>inf</td>\n",
       "      <td>inf</td>\n",
       "    </tr>\n",
       "    <tr>\n",
       "      <th>accuracy</th>\n",
       "      <td>-inf</td>\n",
       "      <td>-inf</td>\n",
       "      <td>-inf</td>\n",
       "      <td>-inf</td>\n",
       "      <td>-inf</td>\n",
       "    </tr>\n",
       "    <tr>\n",
       "      <th>ERCC_content</th>\n",
       "      <td>0</td>\n",
       "      <td>0</td>\n",
       "      <td>0</td>\n",
       "      <td>0</td>\n",
       "      <td>0</td>\n",
       "    </tr>\n",
       "    <tr>\n",
       "      <th>num_genes</th>\n",
       "      <td>7092</td>\n",
       "      <td>6990</td>\n",
       "      <td>469</td>\n",
       "      <td>6056</td>\n",
       "      <td>1025</td>\n",
       "    </tr>\n",
       "    <tr>\n",
       "      <th>MT_content</th>\n",
       "      <td>72193.3</td>\n",
       "      <td>82527.8</td>\n",
       "      <td>77319.3</td>\n",
       "      <td>97045.6</td>\n",
       "      <td>99507.8</td>\n",
       "    </tr>\n",
       "    <tr>\n",
       "      <th>rRNA_content</th>\n",
       "      <td>68.1274</td>\n",
       "      <td>41.7641</td>\n",
       "      <td>1905.97</td>\n",
       "      <td>41.2784</td>\n",
       "      <td>0</td>\n",
       "    </tr>\n",
       "    <tr>\n",
       "      <th>num_processed</th>\n",
       "      <td>680970</td>\n",
       "      <td>7287104</td>\n",
       "      <td>975356</td>\n",
       "      <td>3726116</td>\n",
       "      <td>27173</td>\n",
       "    </tr>\n",
       "    <tr>\n",
       "      <th>num_mapped</th>\n",
       "      <td>501237</td>\n",
       "      <td>6106642</td>\n",
       "      <td>670644</td>\n",
       "      <td>3081850</td>\n",
       "      <td>2018</td>\n",
       "    </tr>\n",
       "    <tr>\n",
       "      <th>percent_mapped</th>\n",
       "      <td>73.6063</td>\n",
       "      <td>83.8007</td>\n",
       "      <td>68.7589</td>\n",
       "      <td>82.7094</td>\n",
       "      <td>7.42649</td>\n",
       "    </tr>\n",
       "    <tr>\n",
       "      <th>global_fl_mode</th>\n",
       "      <td>321</td>\n",
       "      <td>1000</td>\n",
       "      <td>309</td>\n",
       "      <td>276</td>\n",
       "      <td>283</td>\n",
       "    </tr>\n",
       "    <tr>\n",
       "      <th>robust_fl_mode</th>\n",
       "      <td>321</td>\n",
       "      <td>280</td>\n",
       "      <td>309</td>\n",
       "      <td>276</td>\n",
       "      <td>283</td>\n",
       "    </tr>\n",
       "    <tr>\n",
       "      <th>Supplier Sample Name</th>\n",
       "      <td>SCGC--0894_B06</td>\n",
       "      <td>SCGC--0894_C08</td>\n",
       "      <td>SCGC--0894_D12</td>\n",
       "      <td>SCGC--0894_E10</td>\n",
       "      <td>SCGC--0894_A12</td>\n",
       "    </tr>\n",
       "    <tr>\n",
       "      <th>sample_type</th>\n",
       "      <td>sc</td>\n",
       "      <td>sc</td>\n",
       "      <td>sc</td>\n",
       "      <td>sc</td>\n",
       "      <td>sc</td>\n",
       "    </tr>\n",
       "    <tr>\n",
       "      <th>LB_type</th>\n",
       "      <td>A</td>\n",
       "      <td>B</td>\n",
       "      <td>B</td>\n",
       "      <td>B</td>\n",
       "      <td>B</td>\n",
       "    </tr>\n",
       "    <tr>\n",
       "      <th>merge</th>\n",
       "      <td>sc_A</td>\n",
       "      <td>sc_B</td>\n",
       "      <td>sc_B</td>\n",
       "      <td>sc_B</td>\n",
       "      <td>sc_B</td>\n",
       "    </tr>\n",
       "    <tr>\n",
       "      <th>well</th>\n",
       "      <td>B06</td>\n",
       "      <td>C08</td>\n",
       "      <td>D12</td>\n",
       "      <td>E10</td>\n",
       "      <td>A12</td>\n",
       "    </tr>\n",
       "    <tr>\n",
       "      <th>row</th>\n",
       "      <td>2</td>\n",
       "      <td>3</td>\n",
       "      <td>4</td>\n",
       "      <td>5</td>\n",
       "      <td>1</td>\n",
       "    </tr>\n",
       "    <tr>\n",
       "      <th>column</th>\n",
       "      <td>6</td>\n",
       "      <td>8</td>\n",
       "      <td>12</td>\n",
       "      <td>10</td>\n",
       "      <td>12</td>\n",
       "    </tr>\n",
       "  </tbody>\n",
       "</table>\n",
       "</div>"
      ],
      "text/plain": [
       "                          21681_1#18      21681_1#32      21681_1#48  \\\n",
       "detection_limit                  inf             inf             inf   \n",
       "accuracy                        -inf            -inf            -inf   \n",
       "ERCC_content                       0               0               0   \n",
       "num_genes                       7092            6990             469   \n",
       "MT_content                   72193.3         82527.8         77319.3   \n",
       "rRNA_content                 68.1274         41.7641         1905.97   \n",
       "num_processed                 680970         7287104          975356   \n",
       "num_mapped                    501237         6106642          670644   \n",
       "percent_mapped               73.6063         83.8007         68.7589   \n",
       "global_fl_mode                   321            1000             309   \n",
       "robust_fl_mode                   321             280             309   \n",
       "Supplier Sample Name  SCGC--0894_B06  SCGC--0894_C08  SCGC--0894_D12   \n",
       "sample_type                       sc              sc              sc   \n",
       "LB_type                            A               B               B   \n",
       "merge                           sc_A            sc_B            sc_B   \n",
       "well                             B06             C08             D12   \n",
       "row                                2               3               4   \n",
       "column                             6               8              12   \n",
       "\n",
       "                          21681_1#58      21681_1#12  \n",
       "detection_limit                  inf             inf  \n",
       "accuracy                        -inf            -inf  \n",
       "ERCC_content                       0               0  \n",
       "num_genes                       6056            1025  \n",
       "MT_content                   97045.6         99507.8  \n",
       "rRNA_content                 41.2784               0  \n",
       "num_processed                3726116           27173  \n",
       "num_mapped                   3081850            2018  \n",
       "percent_mapped               82.7094         7.42649  \n",
       "global_fl_mode                   276             283  \n",
       "robust_fl_mode                   276             283  \n",
       "Supplier Sample Name  SCGC--0894_E10  SCGC--0894_A12  \n",
       "sample_type                       sc              sc  \n",
       "LB_type                            B               B  \n",
       "merge                           sc_B            sc_B  \n",
       "well                             E10             A12  \n",
       "row                                5               1  \n",
       "column                            10              12  "
      ]
     },
     "execution_count": 6,
     "metadata": {},
     "output_type": "execute_result"
    }
   ],
   "source": [
    "sample_info.head().T"
   ]
  },
  {
   "cell_type": "code",
   "execution_count": 7,
   "metadata": {
    "collapsed": false
   },
   "outputs": [],
   "source": [
    "Y = patsy.dmatrix('np.log(num_genes) + np.log(num_mapped) + LB_type', sample_info, return_type='dataframe')\n",
    "y = np.asarray(Y)"
   ]
  },
  {
   "cell_type": "code",
   "execution_count": 38,
   "metadata": {
    "collapsed": false
   },
   "outputs": [],
   "source": [
    "partial_logexp = logexp.iloc[:1000,:]"
   ]
  },
  {
   "cell_type": "code",
   "execution_count": 39,
   "metadata": {
    "collapsed": false
   },
   "outputs": [
    {
     "data": {
      "text/plain": [
       "(1000, 96)"
      ]
     },
     "execution_count": 39,
     "metadata": {},
     "output_type": "execute_result"
    }
   ],
   "source": [
    "partial_logexp.shape"
   ]
  },
  {
   "cell_type": "code",
   "execution_count": 40,
   "metadata": {
    "collapsed": false
   },
   "outputs": [
    {
     "data": {
      "text/html": [
       "<div>\n",
       "<table border=\"1\" class=\"dataframe\">\n",
       "  <thead>\n",
       "    <tr style=\"text-align: right;\">\n",
       "      <th></th>\n",
       "      <th>variable</th>\n",
       "      <th>value</th>\n",
       "    </tr>\n",
       "  </thead>\n",
       "  <tbody>\n",
       "    <tr>\n",
       "      <th>0</th>\n",
       "      <td>detection_limit</td>\n",
       "      <td>inf</td>\n",
       "    </tr>\n",
       "    <tr>\n",
       "      <th>1</th>\n",
       "      <td>detection_limit</td>\n",
       "      <td>inf</td>\n",
       "    </tr>\n",
       "    <tr>\n",
       "      <th>2</th>\n",
       "      <td>detection_limit</td>\n",
       "      <td>inf</td>\n",
       "    </tr>\n",
       "    <tr>\n",
       "      <th>3</th>\n",
       "      <td>detection_limit</td>\n",
       "      <td>inf</td>\n",
       "    </tr>\n",
       "    <tr>\n",
       "      <th>4</th>\n",
       "      <td>detection_limit</td>\n",
       "      <td>inf</td>\n",
       "    </tr>\n",
       "  </tbody>\n",
       "</table>\n",
       "</div>"
      ],
      "text/plain": [
       "          variable value\n",
       "0  detection_limit   inf\n",
       "1  detection_limit   inf\n",
       "2  detection_limit   inf\n",
       "3  detection_limit   inf\n",
       "4  detection_limit   inf"
      ]
     },
     "execution_count": 40,
     "metadata": {},
     "output_type": "execute_result"
    }
   ],
   "source": [
    "pd.melt(sample_info).head()"
   ]
  },
  {
   "cell_type": "code",
   "execution_count": 41,
   "metadata": {
    "collapsed": false
   },
   "outputs": [
    {
     "data": {
      "text/html": [
       "<div>\n",
       "<table border=\"1\" class=\"dataframe\">\n",
       "  <thead>\n",
       "    <tr style=\"text-align: right;\">\n",
       "      <th></th>\n",
       "      <th>well</th>\n",
       "      <th>merge</th>\n",
       "      <th>variable</th>\n",
       "      <th>value</th>\n",
       "    </tr>\n",
       "  </thead>\n",
       "  <tbody>\n",
       "    <tr>\n",
       "      <th>0</th>\n",
       "      <td>B06</td>\n",
       "      <td>sc_A</td>\n",
       "      <td>detection_limit</td>\n",
       "      <td>inf</td>\n",
       "    </tr>\n",
       "    <tr>\n",
       "      <th>1</th>\n",
       "      <td>C08</td>\n",
       "      <td>sc_B</td>\n",
       "      <td>detection_limit</td>\n",
       "      <td>inf</td>\n",
       "    </tr>\n",
       "    <tr>\n",
       "      <th>2</th>\n",
       "      <td>D12</td>\n",
       "      <td>sc_B</td>\n",
       "      <td>detection_limit</td>\n",
       "      <td>inf</td>\n",
       "    </tr>\n",
       "    <tr>\n",
       "      <th>3</th>\n",
       "      <td>E10</td>\n",
       "      <td>sc_B</td>\n",
       "      <td>detection_limit</td>\n",
       "      <td>inf</td>\n",
       "    </tr>\n",
       "    <tr>\n",
       "      <th>4</th>\n",
       "      <td>A12</td>\n",
       "      <td>sc_B</td>\n",
       "      <td>detection_limit</td>\n",
       "      <td>inf</td>\n",
       "    </tr>\n",
       "  </tbody>\n",
       "</table>\n",
       "</div>"
      ],
      "text/plain": [
       "  well merge         variable value\n",
       "0  B06  sc_A  detection_limit   inf\n",
       "1  C08  sc_B  detection_limit   inf\n",
       "2  D12  sc_B  detection_limit   inf\n",
       "3  E10  sc_B  detection_limit   inf\n",
       "4  A12  sc_B  detection_limit   inf"
      ]
     },
     "execution_count": 41,
     "metadata": {},
     "output_type": "execute_result"
    }
   ],
   "source": [
    "pd.melt(sample_info, id_vars=['well', 'merge']).head()"
   ]
  },
  {
   "cell_type": "code",
   "execution_count": null,
   "metadata": {
    "collapsed": true
   },
   "outputs": [],
   "source": []
  },
  {
   "cell_type": "code",
   "execution_count": null,
   "metadata": {
    "collapsed": true
   },
   "outputs": [],
   "source": []
  },
  {
   "cell_type": "code",
   "execution_count": 42,
   "metadata": {
    "collapsed": false
   },
   "outputs": [
    {
     "data": {
      "text/html": [
       "<div>\n",
       "<table border=\"1\" class=\"dataframe\">\n",
       "  <thead>\n",
       "    <tr style=\"text-align: right;\">\n",
       "      <th></th>\n",
       "      <th>ENSG00000283628</th>\n",
       "      <th>ENSG00000283077</th>\n",
       "      <th>ENSG00000283307</th>\n",
       "      <th>ENSG00000283184</th>\n",
       "      <th>ENSG00000283423</th>\n",
       "      <th>ENSG00000283583</th>\n",
       "      <th>ENSG00000283275</th>\n",
       "      <th>ENSG00000283452</th>\n",
       "      <th>ENSG00000283454</th>\n",
       "      <th>ENSG00000283033</th>\n",
       "      <th>...</th>\n",
       "      <th>Intercept</th>\n",
       "      <th>LB_type[T.B]</th>\n",
       "      <th>sample_type[T.LBQCpos]</th>\n",
       "      <th>sample_type[T.LBneg]</th>\n",
       "      <th>sample_type[T.LBpos]</th>\n",
       "      <th>sample_type[T.multicell]</th>\n",
       "      <th>sample_type[T.sc]</th>\n",
       "      <th>np.log(num_genes)</th>\n",
       "      <th>np.log(num_mapped)</th>\n",
       "      <th>percent_mapped</th>\n",
       "    </tr>\n",
       "  </thead>\n",
       "  <tbody>\n",
       "    <tr>\n",
       "      <th>21681_1#18</th>\n",
       "      <td>0.0</td>\n",
       "      <td>0.0</td>\n",
       "      <td>0.0</td>\n",
       "      <td>0.0</td>\n",
       "      <td>0.0</td>\n",
       "      <td>0.0</td>\n",
       "      <td>0.0</td>\n",
       "      <td>0.0</td>\n",
       "      <td>0.0</td>\n",
       "      <td>0.0</td>\n",
       "      <td>...</td>\n",
       "      <td>1.0</td>\n",
       "      <td>0.0</td>\n",
       "      <td>0.0</td>\n",
       "      <td>0.0</td>\n",
       "      <td>0.0</td>\n",
       "      <td>0.0</td>\n",
       "      <td>1.0</td>\n",
       "      <td>8.866723</td>\n",
       "      <td>13.124834</td>\n",
       "      <td>73.606326</td>\n",
       "    </tr>\n",
       "    <tr>\n",
       "      <th>21681_1#32</th>\n",
       "      <td>0.0</td>\n",
       "      <td>0.0</td>\n",
       "      <td>0.0</td>\n",
       "      <td>0.0</td>\n",
       "      <td>0.0</td>\n",
       "      <td>0.0</td>\n",
       "      <td>0.0</td>\n",
       "      <td>0.0</td>\n",
       "      <td>0.0</td>\n",
       "      <td>0.0</td>\n",
       "      <td>...</td>\n",
       "      <td>1.0</td>\n",
       "      <td>1.0</td>\n",
       "      <td>0.0</td>\n",
       "      <td>0.0</td>\n",
       "      <td>0.0</td>\n",
       "      <td>0.0</td>\n",
       "      <td>1.0</td>\n",
       "      <td>8.852236</td>\n",
       "      <td>15.624888</td>\n",
       "      <td>83.800670</td>\n",
       "    </tr>\n",
       "    <tr>\n",
       "      <th>21681_1#48</th>\n",
       "      <td>0.0</td>\n",
       "      <td>0.0</td>\n",
       "      <td>0.0</td>\n",
       "      <td>0.0</td>\n",
       "      <td>0.0</td>\n",
       "      <td>0.0</td>\n",
       "      <td>0.0</td>\n",
       "      <td>0.0</td>\n",
       "      <td>0.0</td>\n",
       "      <td>0.0</td>\n",
       "      <td>...</td>\n",
       "      <td>1.0</td>\n",
       "      <td>1.0</td>\n",
       "      <td>0.0</td>\n",
       "      <td>0.0</td>\n",
       "      <td>0.0</td>\n",
       "      <td>0.0</td>\n",
       "      <td>1.0</td>\n",
       "      <td>6.150603</td>\n",
       "      <td>13.415994</td>\n",
       "      <td>68.758894</td>\n",
       "    </tr>\n",
       "    <tr>\n",
       "      <th>21681_1#58</th>\n",
       "      <td>0.0</td>\n",
       "      <td>0.0</td>\n",
       "      <td>0.0</td>\n",
       "      <td>0.0</td>\n",
       "      <td>0.0</td>\n",
       "      <td>0.0</td>\n",
       "      <td>0.0</td>\n",
       "      <td>0.0</td>\n",
       "      <td>0.0</td>\n",
       "      <td>0.0</td>\n",
       "      <td>...</td>\n",
       "      <td>1.0</td>\n",
       "      <td>1.0</td>\n",
       "      <td>0.0</td>\n",
       "      <td>0.0</td>\n",
       "      <td>0.0</td>\n",
       "      <td>0.0</td>\n",
       "      <td>1.0</td>\n",
       "      <td>8.708805</td>\n",
       "      <td>14.941041</td>\n",
       "      <td>82.709449</td>\n",
       "    </tr>\n",
       "    <tr>\n",
       "      <th>21681_1#12</th>\n",
       "      <td>0.0</td>\n",
       "      <td>0.0</td>\n",
       "      <td>0.0</td>\n",
       "      <td>0.0</td>\n",
       "      <td>0.0</td>\n",
       "      <td>0.0</td>\n",
       "      <td>0.0</td>\n",
       "      <td>0.0</td>\n",
       "      <td>0.0</td>\n",
       "      <td>0.0</td>\n",
       "      <td>...</td>\n",
       "      <td>1.0</td>\n",
       "      <td>1.0</td>\n",
       "      <td>0.0</td>\n",
       "      <td>0.0</td>\n",
       "      <td>0.0</td>\n",
       "      <td>0.0</td>\n",
       "      <td>1.0</td>\n",
       "      <td>6.932448</td>\n",
       "      <td>7.609862</td>\n",
       "      <td>7.426490</td>\n",
       "    </tr>\n",
       "  </tbody>\n",
       "</table>\n",
       "<p>5 rows × 1010 columns</p>\n",
       "</div>"
      ],
      "text/plain": [
       "            ENSG00000283628  ENSG00000283077  ENSG00000283307  \\\n",
       "21681_1#18              0.0              0.0              0.0   \n",
       "21681_1#32              0.0              0.0              0.0   \n",
       "21681_1#48              0.0              0.0              0.0   \n",
       "21681_1#58              0.0              0.0              0.0   \n",
       "21681_1#12              0.0              0.0              0.0   \n",
       "\n",
       "            ENSG00000283184  ENSG00000283423  ENSG00000283583  \\\n",
       "21681_1#18              0.0              0.0              0.0   \n",
       "21681_1#32              0.0              0.0              0.0   \n",
       "21681_1#48              0.0              0.0              0.0   \n",
       "21681_1#58              0.0              0.0              0.0   \n",
       "21681_1#12              0.0              0.0              0.0   \n",
       "\n",
       "            ENSG00000283275  ENSG00000283452  ENSG00000283454  \\\n",
       "21681_1#18              0.0              0.0              0.0   \n",
       "21681_1#32              0.0              0.0              0.0   \n",
       "21681_1#48              0.0              0.0              0.0   \n",
       "21681_1#58              0.0              0.0              0.0   \n",
       "21681_1#12              0.0              0.0              0.0   \n",
       "\n",
       "            ENSG00000283033       ...        Intercept  LB_type[T.B]  \\\n",
       "21681_1#18              0.0       ...              1.0           0.0   \n",
       "21681_1#32              0.0       ...              1.0           1.0   \n",
       "21681_1#48              0.0       ...              1.0           1.0   \n",
       "21681_1#58              0.0       ...              1.0           1.0   \n",
       "21681_1#12              0.0       ...              1.0           1.0   \n",
       "\n",
       "            sample_type[T.LBQCpos]  sample_type[T.LBneg]  \\\n",
       "21681_1#18                     0.0                   0.0   \n",
       "21681_1#32                     0.0                   0.0   \n",
       "21681_1#48                     0.0                   0.0   \n",
       "21681_1#58                     0.0                   0.0   \n",
       "21681_1#12                     0.0                   0.0   \n",
       "\n",
       "            sample_type[T.LBpos]  sample_type[T.multicell]  sample_type[T.sc]  \\\n",
       "21681_1#18                   0.0                       0.0                1.0   \n",
       "21681_1#32                   0.0                       0.0                1.0   \n",
       "21681_1#48                   0.0                       0.0                1.0   \n",
       "21681_1#58                   0.0                       0.0                1.0   \n",
       "21681_1#12                   0.0                       0.0                1.0   \n",
       "\n",
       "            np.log(num_genes)  np.log(num_mapped)  percent_mapped  \n",
       "21681_1#18           8.866723           13.124834       73.606326  \n",
       "21681_1#32           8.852236           15.624888       83.800670  \n",
       "21681_1#48           6.150603           13.415994       68.758894  \n",
       "21681_1#58           8.708805           14.941041       82.709449  \n",
       "21681_1#12           6.932448            7.609862        7.426490  \n",
       "\n",
       "[5 rows x 1010 columns]"
      ]
     },
     "execution_count": 42,
     "metadata": {},
     "output_type": "execute_result"
    }
   ],
   "source": [
    "partial_logexp.T.join(Y).head()"
   ]
  },
  {
   "cell_type": "code",
   "execution_count": null,
   "metadata": {
    "collapsed": true
   },
   "outputs": [],
   "source": []
  },
  {
   "cell_type": "code",
   "execution_count": 43,
   "metadata": {
    "collapsed": false
   },
   "outputs": [
    {
     "data": {
      "text/plain": [
       "Index(['ENSG00000283628', 'ENSG00000283077', 'ENSG00000283307',\n",
       "       'ENSG00000283184', 'ENSG00000283423', 'ENSG00000283583',\n",
       "       'ENSG00000283275', 'ENSG00000283452', 'ENSG00000283454',\n",
       "       'ENSG00000283033',\n",
       "       ...\n",
       "       'Intercept', 'LB_type[T.B]', 'sample_type[T.LBQCpos]',\n",
       "       'sample_type[T.LBneg]', 'sample_type[T.LBpos]',\n",
       "       'sample_type[T.multicell]', 'sample_type[T.sc]', 'np.log(num_genes)',\n",
       "       'np.log(num_mapped)', 'percent_mapped'],\n",
       "      dtype='object', length=1010)"
      ]
     },
     "execution_count": 43,
     "metadata": {},
     "output_type": "execute_result"
    }
   ],
   "source": [
    "partial_logexp.T.join(Y).columns"
   ]
  },
  {
   "cell_type": "code",
   "execution_count": 44,
   "metadata": {
    "collapsed": false
   },
   "outputs": [],
   "source": [
    "long_data = pd.melt(partial_logexp.T.join(Y), id_vars=Y.columns.tolist())"
   ]
  },
  {
   "cell_type": "code",
   "execution_count": 45,
   "metadata": {
    "collapsed": false
   },
   "outputs": [
    {
     "data": {
      "text/html": [
       "<div>\n",
       "<table border=\"1\" class=\"dataframe\">\n",
       "  <thead>\n",
       "    <tr style=\"text-align: right;\">\n",
       "      <th></th>\n",
       "      <th>Intercept</th>\n",
       "      <th>LB_type[T.B]</th>\n",
       "      <th>sample_type[T.LBQCpos]</th>\n",
       "      <th>sample_type[T.LBneg]</th>\n",
       "      <th>sample_type[T.LBpos]</th>\n",
       "      <th>sample_type[T.multicell]</th>\n",
       "      <th>sample_type[T.sc]</th>\n",
       "      <th>np.log(num_genes)</th>\n",
       "      <th>np.log(num_mapped)</th>\n",
       "      <th>percent_mapped</th>\n",
       "      <th>variable</th>\n",
       "      <th>value</th>\n",
       "    </tr>\n",
       "  </thead>\n",
       "  <tbody>\n",
       "    <tr>\n",
       "      <th>0</th>\n",
       "      <td>1.0</td>\n",
       "      <td>0.0</td>\n",
       "      <td>0.0</td>\n",
       "      <td>0.0</td>\n",
       "      <td>0.0</td>\n",
       "      <td>0.0</td>\n",
       "      <td>1.0</td>\n",
       "      <td>8.866723</td>\n",
       "      <td>13.124834</td>\n",
       "      <td>73.606326</td>\n",
       "      <td>ENSG00000283628</td>\n",
       "      <td>0.0</td>\n",
       "    </tr>\n",
       "    <tr>\n",
       "      <th>1</th>\n",
       "      <td>1.0</td>\n",
       "      <td>1.0</td>\n",
       "      <td>0.0</td>\n",
       "      <td>0.0</td>\n",
       "      <td>0.0</td>\n",
       "      <td>0.0</td>\n",
       "      <td>1.0</td>\n",
       "      <td>8.852236</td>\n",
       "      <td>15.624888</td>\n",
       "      <td>83.800670</td>\n",
       "      <td>ENSG00000283628</td>\n",
       "      <td>0.0</td>\n",
       "    </tr>\n",
       "    <tr>\n",
       "      <th>2</th>\n",
       "      <td>1.0</td>\n",
       "      <td>1.0</td>\n",
       "      <td>0.0</td>\n",
       "      <td>0.0</td>\n",
       "      <td>0.0</td>\n",
       "      <td>0.0</td>\n",
       "      <td>1.0</td>\n",
       "      <td>6.150603</td>\n",
       "      <td>13.415994</td>\n",
       "      <td>68.758894</td>\n",
       "      <td>ENSG00000283628</td>\n",
       "      <td>0.0</td>\n",
       "    </tr>\n",
       "    <tr>\n",
       "      <th>3</th>\n",
       "      <td>1.0</td>\n",
       "      <td>1.0</td>\n",
       "      <td>0.0</td>\n",
       "      <td>0.0</td>\n",
       "      <td>0.0</td>\n",
       "      <td>0.0</td>\n",
       "      <td>1.0</td>\n",
       "      <td>8.708805</td>\n",
       "      <td>14.941041</td>\n",
       "      <td>82.709449</td>\n",
       "      <td>ENSG00000283628</td>\n",
       "      <td>0.0</td>\n",
       "    </tr>\n",
       "    <tr>\n",
       "      <th>4</th>\n",
       "      <td>1.0</td>\n",
       "      <td>1.0</td>\n",
       "      <td>0.0</td>\n",
       "      <td>0.0</td>\n",
       "      <td>0.0</td>\n",
       "      <td>0.0</td>\n",
       "      <td>1.0</td>\n",
       "      <td>6.932448</td>\n",
       "      <td>7.609862</td>\n",
       "      <td>7.426490</td>\n",
       "      <td>ENSG00000283628</td>\n",
       "      <td>0.0</td>\n",
       "    </tr>\n",
       "  </tbody>\n",
       "</table>\n",
       "</div>"
      ],
      "text/plain": [
       "   Intercept  LB_type[T.B]  sample_type[T.LBQCpos]  sample_type[T.LBneg]  \\\n",
       "0        1.0           0.0                     0.0                   0.0   \n",
       "1        1.0           1.0                     0.0                   0.0   \n",
       "2        1.0           1.0                     0.0                   0.0   \n",
       "3        1.0           1.0                     0.0                   0.0   \n",
       "4        1.0           1.0                     0.0                   0.0   \n",
       "\n",
       "   sample_type[T.LBpos]  sample_type[T.multicell]  sample_type[T.sc]  \\\n",
       "0                   0.0                       0.0                1.0   \n",
       "1                   0.0                       0.0                1.0   \n",
       "2                   0.0                       0.0                1.0   \n",
       "3                   0.0                       0.0                1.0   \n",
       "4                   0.0                       0.0                1.0   \n",
       "\n",
       "   np.log(num_genes)  np.log(num_mapped)  percent_mapped         variable  \\\n",
       "0           8.866723           13.124834       73.606326  ENSG00000283628   \n",
       "1           8.852236           15.624888       83.800670  ENSG00000283628   \n",
       "2           6.150603           13.415994       68.758894  ENSG00000283628   \n",
       "3           8.708805           14.941041       82.709449  ENSG00000283628   \n",
       "4           6.932448            7.609862        7.426490  ENSG00000283628   \n",
       "\n",
       "   value  \n",
       "0    0.0  \n",
       "1    0.0  \n",
       "2    0.0  \n",
       "3    0.0  \n",
       "4    0.0  "
      ]
     },
     "execution_count": 45,
     "metadata": {},
     "output_type": "execute_result"
    }
   ],
   "source": [
    "long_data.head()"
   ]
  },
  {
   "cell_type": "code",
   "execution_count": 46,
   "metadata": {
    "collapsed": false
   },
   "outputs": [
    {
     "data": {
      "text/plain": [
       "96000"
      ]
     },
     "execution_count": 46,
     "metadata": {},
     "output_type": "execute_result"
    }
   ],
   "source": [
    "long_data.shape[0]"
   ]
  },
  {
   "cell_type": "code",
   "execution_count": 47,
   "metadata": {
    "collapsed": false
   },
   "outputs": [],
   "source": [
    "covars = long_data.drop(['variable', 'value'], 1)"
   ]
  },
  {
   "cell_type": "code",
   "execution_count": 48,
   "metadata": {
    "collapsed": false
   },
   "outputs": [
    {
     "data": {
      "text/plain": [
       "(96000, 10)"
      ]
     },
     "execution_count": 48,
     "metadata": {},
     "output_type": "execute_result"
    }
   ],
   "source": [
    "covars.shape"
   ]
  },
  {
   "cell_type": "code",
   "execution_count": 49,
   "metadata": {
    "collapsed": true
   },
   "outputs": [],
   "source": [
    "genes = long_data.variable.astype('category')"
   ]
  },
  {
   "cell_type": "code",
   "execution_count": 50,
   "metadata": {
    "collapsed": false
   },
   "outputs": [
    {
     "data": {
      "text/plain": [
       "1000"
      ]
     },
     "execution_count": 50,
     "metadata": {},
     "output_type": "execute_result"
    }
   ],
   "source": [
    "genes.cat.categories.shape[0]"
   ]
  },
  {
   "cell_type": "code",
   "execution_count": 51,
   "metadata": {
    "collapsed": false
   },
   "outputs": [],
   "source": [
    "y = long_data.value.values"
   ]
  },
  {
   "cell_type": "code",
   "execution_count": 52,
   "metadata": {
    "collapsed": false
   },
   "outputs": [
    {
     "data": {
      "text/plain": [
       "96000"
      ]
     },
     "execution_count": 52,
     "metadata": {},
     "output_type": "execute_result"
    }
   ],
   "source": [
    "y.shape[0]"
   ]
  },
  {
   "cell_type": "code",
   "execution_count": 53,
   "metadata": {
    "collapsed": false
   },
   "outputs": [
    {
     "data": {
      "text/plain": [
       "array([971, 971, 971, 971, 971], dtype=int16)"
      ]
     },
     "execution_count": 53,
     "metadata": {},
     "output_type": "execute_result"
    }
   ],
   "source": [
    "(genes.cat.codes + 1).head().values"
   ]
  },
  {
   "cell_type": "code",
   "execution_count": 54,
   "metadata": {
    "collapsed": false
   },
   "outputs": [
    {
     "data": {
      "text/plain": [
       "array([[  1.        ,   0.        ,   0.        , ...,   8.86672267,\n",
       "         13.12483432,  73.60632627],\n",
       "       [  1.        ,   1.        ,   0.        , ...,   8.85223584,\n",
       "         15.62488759,  83.80067033],\n",
       "       [  1.        ,   1.        ,   0.        , ...,   6.15060277,\n",
       "         13.41599372,  68.75889419],\n",
       "       ..., \n",
       "       [  1.        ,   1.        ,   0.        , ...,   8.73921612,\n",
       "         15.17313843,  82.24837559],\n",
       "       [  1.        ,   1.        ,   1.        , ...,   9.04629086,\n",
       "         11.39189842,  39.04572617],\n",
       "       [  1.        ,   1.        ,   0.        , ...,   8.82834762,\n",
       "         15.54226171,  78.839769  ]])"
      ]
     },
     "execution_count": 54,
     "metadata": {},
     "output_type": "execute_result"
    }
   ],
   "source": [
    "covars.values"
   ]
  },
  {
   "cell_type": "code",
   "execution_count": 55,
   "metadata": {
    "collapsed": true
   },
   "outputs": [],
   "source": [
    "import pickle"
   ]
  },
  {
   "cell_type": "code",
   "execution_count": 56,
   "metadata": {
    "collapsed": false
   },
   "outputs": [],
   "source": [
    "with open('ard-mllr.pkl', 'rb') as fh:\n",
    "    model = pickle.load(fh)"
   ]
  },
  {
   "cell_type": "code",
   "execution_count": 57,
   "metadata": {
    "collapsed": false
   },
   "outputs": [
    {
     "data": {
      "text/plain": [
       "(96, 1000)"
      ]
     },
     "execution_count": 57,
     "metadata": {},
     "output_type": "execute_result"
    }
   ],
   "source": [
    "partial_logexp.T.shape"
   ]
  },
  {
   "cell_type": "code",
   "execution_count": 58,
   "metadata": {
    "collapsed": false
   },
   "outputs": [
    {
     "data": {
      "text/plain": [
       "(96000, 12)"
      ]
     },
     "execution_count": 58,
     "metadata": {},
     "output_type": "execute_result"
    }
   ],
   "source": [
    "long_data.shape"
   ]
  },
  {
   "cell_type": "code",
   "execution_count": 59,
   "metadata": {
    "collapsed": false
   },
   "outputs": [],
   "source": [
    "N = y.shape[0]\n",
    "P = covars.shape[1]\n",
    "G = genes.cat.categories.shape[0]\n",
    "data = {\n",
    "    'N': N,\n",
    "    'P': P,\n",
    "    'G': G,\n",
    "    'x': covars.values,\n",
    "    'y': y,\n",
    "    'gene': genes.cat.codes.values + 1\n",
    "}"
   ]
  },
  {
   "cell_type": "code",
   "execution_count": 60,
   "metadata": {
    "collapsed": false
   },
   "outputs": [
    {
     "name": "stderr",
     "output_type": "stream",
     "text": [
      "WARNING:pystan:Automatic Differentiation Variational Inference (ADVI) is an EXPERIMENTAL ALGORITHM.\n",
      "WARNING:pystan:ADVI samples may be found on the filesystem in the file `/var/folders/wm/zp4vrnhx3bv26jw8wd153384000gb8/T/tmpmnhphar4/output.csv`\n"
     ]
    }
   ],
   "source": [
    "v = model.vb(data=data)"
   ]
  },
  {
   "cell_type": "code",
   "execution_count": 61,
   "metadata": {
    "collapsed": false
   },
   "outputs": [
    {
     "name": "stderr",
     "output_type": "stream",
     "text": [
      "/Users/vs4/anaconda/lib/python3.6/site-packages/IPython/core/interactiveshell.py:2717: DtypeWarning: Columns (0) have mixed types. Specify dtype option on import or set low_memory=False.\n",
      "  interactivity=interactivity, compiler=compiler, result=result)\n"
     ]
    }
   ],
   "source": [
    "df = pd.read_csv(v['args']['sample_file'].decode('ascii'), comment='#').dropna()\n",
    "sdf = df.mean()"
   ]
  },
  {
   "cell_type": "code",
   "execution_count": 62,
   "metadata": {
    "collapsed": true
   },
   "outputs": [],
   "source": [
    "def extract_alpha(sdf):\n",
    "    v_a = sdf[sdf.index.str.startswith('alpha.')]\n",
    "    v_a.index = v_a.index.str.extract('alpha\\.(\\d+)', expand=False).map(int)\n",
    "\n",
    "    return v_a"
   ]
  },
  {
   "cell_type": "code",
   "execution_count": 63,
   "metadata": {
    "collapsed": false
   },
   "outputs": [
    {
     "data": {
      "text/plain": [
       "Intercept                   0.022264\n",
       "LB_type[T.B]                0.027381\n",
       "sample_type[T.LBQCpos]      0.089541\n",
       "sample_type[T.LBneg]        0.105281\n",
       "sample_type[T.LBpos]        0.087502\n",
       "sample_type[T.multicell]    0.080116\n",
       "sample_type[T.sc]           0.020324\n",
       "np.log(num_genes)           0.013136\n",
       "np.log(num_mapped)          0.016468\n",
       "percent_mapped              0.005697\n",
       "dtype: float64"
      ]
     },
     "execution_count": 63,
     "metadata": {},
     "output_type": "execute_result"
    }
   ],
   "source": [
    "alpha = extract_alpha(sdf)\n",
    "alpha.index = Y.columns\n",
    "alpha"
   ]
  },
  {
   "cell_type": "code",
   "execution_count": null,
   "metadata": {
    "collapsed": true
   },
   "outputs": [],
   "source": []
  },
  {
   "cell_type": "code",
   "execution_count": 34,
   "metadata": {
    "collapsed": false
   },
   "outputs": [
    {
     "data": {
      "text/html": [
       "<div>\n",
       "<table border=\"1\" class=\"dataframe\">\n",
       "  <thead>\n",
       "    <tr style=\"text-align: right;\">\n",
       "      <th></th>\n",
       "      <th>21681_1#18</th>\n",
       "      <th>21681_1#32</th>\n",
       "      <th>21681_1#48</th>\n",
       "      <th>21681_1#58</th>\n",
       "      <th>21681_1#12</th>\n",
       "    </tr>\n",
       "  </thead>\n",
       "  <tbody>\n",
       "    <tr>\n",
       "      <th>detection_limit</th>\n",
       "      <td>inf</td>\n",
       "      <td>inf</td>\n",
       "      <td>inf</td>\n",
       "      <td>inf</td>\n",
       "      <td>inf</td>\n",
       "    </tr>\n",
       "    <tr>\n",
       "      <th>accuracy</th>\n",
       "      <td>-inf</td>\n",
       "      <td>-inf</td>\n",
       "      <td>-inf</td>\n",
       "      <td>-inf</td>\n",
       "      <td>-inf</td>\n",
       "    </tr>\n",
       "    <tr>\n",
       "      <th>ERCC_content</th>\n",
       "      <td>0</td>\n",
       "      <td>0</td>\n",
       "      <td>0</td>\n",
       "      <td>0</td>\n",
       "      <td>0</td>\n",
       "    </tr>\n",
       "    <tr>\n",
       "      <th>num_genes</th>\n",
       "      <td>7092</td>\n",
       "      <td>6990</td>\n",
       "      <td>469</td>\n",
       "      <td>6056</td>\n",
       "      <td>1025</td>\n",
       "    </tr>\n",
       "    <tr>\n",
       "      <th>MT_content</th>\n",
       "      <td>72193.3</td>\n",
       "      <td>82527.8</td>\n",
       "      <td>77319.3</td>\n",
       "      <td>97045.6</td>\n",
       "      <td>99507.8</td>\n",
       "    </tr>\n",
       "    <tr>\n",
       "      <th>rRNA_content</th>\n",
       "      <td>68.1274</td>\n",
       "      <td>41.7641</td>\n",
       "      <td>1905.97</td>\n",
       "      <td>41.2784</td>\n",
       "      <td>0</td>\n",
       "    </tr>\n",
       "    <tr>\n",
       "      <th>num_processed</th>\n",
       "      <td>680970</td>\n",
       "      <td>7287104</td>\n",
       "      <td>975356</td>\n",
       "      <td>3726116</td>\n",
       "      <td>27173</td>\n",
       "    </tr>\n",
       "    <tr>\n",
       "      <th>num_mapped</th>\n",
       "      <td>501237</td>\n",
       "      <td>6106642</td>\n",
       "      <td>670644</td>\n",
       "      <td>3081850</td>\n",
       "      <td>2018</td>\n",
       "    </tr>\n",
       "    <tr>\n",
       "      <th>percent_mapped</th>\n",
       "      <td>73.6063</td>\n",
       "      <td>83.8007</td>\n",
       "      <td>68.7589</td>\n",
       "      <td>82.7094</td>\n",
       "      <td>7.42649</td>\n",
       "    </tr>\n",
       "    <tr>\n",
       "      <th>global_fl_mode</th>\n",
       "      <td>321</td>\n",
       "      <td>1000</td>\n",
       "      <td>309</td>\n",
       "      <td>276</td>\n",
       "      <td>283</td>\n",
       "    </tr>\n",
       "    <tr>\n",
       "      <th>robust_fl_mode</th>\n",
       "      <td>321</td>\n",
       "      <td>280</td>\n",
       "      <td>309</td>\n",
       "      <td>276</td>\n",
       "      <td>283</td>\n",
       "    </tr>\n",
       "    <tr>\n",
       "      <th>Supplier Sample Name</th>\n",
       "      <td>SCGC--0894_B06</td>\n",
       "      <td>SCGC--0894_C08</td>\n",
       "      <td>SCGC--0894_D12</td>\n",
       "      <td>SCGC--0894_E10</td>\n",
       "      <td>SCGC--0894_A12</td>\n",
       "    </tr>\n",
       "    <tr>\n",
       "      <th>sample_type</th>\n",
       "      <td>sc</td>\n",
       "      <td>sc</td>\n",
       "      <td>sc</td>\n",
       "      <td>sc</td>\n",
       "      <td>sc</td>\n",
       "    </tr>\n",
       "    <tr>\n",
       "      <th>LB_type</th>\n",
       "      <td>A</td>\n",
       "      <td>B</td>\n",
       "      <td>B</td>\n",
       "      <td>B</td>\n",
       "      <td>B</td>\n",
       "    </tr>\n",
       "    <tr>\n",
       "      <th>merge</th>\n",
       "      <td>sc_A</td>\n",
       "      <td>sc_B</td>\n",
       "      <td>sc_B</td>\n",
       "      <td>sc_B</td>\n",
       "      <td>sc_B</td>\n",
       "    </tr>\n",
       "    <tr>\n",
       "      <th>well</th>\n",
       "      <td>B06</td>\n",
       "      <td>C08</td>\n",
       "      <td>D12</td>\n",
       "      <td>E10</td>\n",
       "      <td>A12</td>\n",
       "    </tr>\n",
       "    <tr>\n",
       "      <th>row</th>\n",
       "      <td>2</td>\n",
       "      <td>3</td>\n",
       "      <td>4</td>\n",
       "      <td>5</td>\n",
       "      <td>1</td>\n",
       "    </tr>\n",
       "    <tr>\n",
       "      <th>column</th>\n",
       "      <td>6</td>\n",
       "      <td>8</td>\n",
       "      <td>12</td>\n",
       "      <td>10</td>\n",
       "      <td>12</td>\n",
       "    </tr>\n",
       "  </tbody>\n",
       "</table>\n",
       "</div>"
      ],
      "text/plain": [
       "                          21681_1#18      21681_1#32      21681_1#48  \\\n",
       "detection_limit                  inf             inf             inf   \n",
       "accuracy                        -inf            -inf            -inf   \n",
       "ERCC_content                       0               0               0   \n",
       "num_genes                       7092            6990             469   \n",
       "MT_content                   72193.3         82527.8         77319.3   \n",
       "rRNA_content                 68.1274         41.7641         1905.97   \n",
       "num_processed                 680970         7287104          975356   \n",
       "num_mapped                    501237         6106642          670644   \n",
       "percent_mapped               73.6063         83.8007         68.7589   \n",
       "global_fl_mode                   321            1000             309   \n",
       "robust_fl_mode                   321             280             309   \n",
       "Supplier Sample Name  SCGC--0894_B06  SCGC--0894_C08  SCGC--0894_D12   \n",
       "sample_type                       sc              sc              sc   \n",
       "LB_type                            A               B               B   \n",
       "merge                           sc_A            sc_B            sc_B   \n",
       "well                             B06             C08             D12   \n",
       "row                                2               3               4   \n",
       "column                             6               8              12   \n",
       "\n",
       "                          21681_1#58      21681_1#12  \n",
       "detection_limit                  inf             inf  \n",
       "accuracy                        -inf            -inf  \n",
       "ERCC_content                       0               0  \n",
       "num_genes                       6056            1025  \n",
       "MT_content                   97045.6         99507.8  \n",
       "rRNA_content                 41.2784               0  \n",
       "num_processed                3726116           27173  \n",
       "num_mapped                   3081850            2018  \n",
       "percent_mapped               82.7094         7.42649  \n",
       "global_fl_mode                   276             283  \n",
       "robust_fl_mode                   276             283  \n",
       "Supplier Sample Name  SCGC--0894_E10  SCGC--0894_A12  \n",
       "sample_type                       sc              sc  \n",
       "LB_type                            B               B  \n",
       "merge                           sc_B            sc_B  \n",
       "well                             E10             A12  \n",
       "row                                5               1  \n",
       "column                            10              12  "
      ]
     },
     "execution_count": 34,
     "metadata": {},
     "output_type": "execute_result"
    }
   ],
   "source": [
    "sample_info.head().T"
   ]
  },
  {
   "cell_type": "code",
   "execution_count": 35,
   "metadata": {
    "collapsed": true
   },
   "outputs": [],
   "source": [
    "Y = patsy.dmatrix('np.log(num_genes) + np.log(num_mapped) + LB_type + sample_type + percent_mapped', sample_info, return_type='dataframe')\n",
    "y = np.asarray(Y)"
   ]
  },
  {
   "cell_type": "code",
   "execution_count": 36,
   "metadata": {
    "collapsed": true
   },
   "outputs": [],
   "source": [
    "partial_logexp = logexp.sample(1000, axis=0)"
   ]
  },
  {
   "cell_type": "code",
   "execution_count": 37,
   "metadata": {
    "collapsed": true
   },
   "outputs": [],
   "source": [
    "N, D = partial_logexp.T.shape\n",
    "N, P = y.shape\n",
    "data = {\n",
    "    'N': N,\n",
    "    'D': D,\n",
    "    'x': partial_logexp.T,\n",
    "    'P': P,\n",
    "    'y': y.T\n",
    "}"
   ]
  },
  {
   "cell_type": "code",
   "execution_count": 21,
   "metadata": {
    "collapsed": false
   },
   "outputs": [],
   "source": [
    "long_partial_logexp = pd.melt(partial_logexp.T)"
   ]
  },
  {
   "cell_type": "code",
   "execution_count": 25,
   "metadata": {
    "collapsed": false
   },
   "outputs": [],
   "source": [
    "c = long_partial_logexp.Name.astype('category')"
   ]
  },
  {
   "cell_type": "code",
   "execution_count": 37,
   "metadata": {
    "collapsed": false
   },
   "outputs": [
    {
     "data": {
      "text/plain": [
       "array([90, 90, 90, ..., 80, 80, 80], dtype=int8)"
      ]
     },
     "execution_count": 37,
     "metadata": {},
     "output_type": "execute_result"
    }
   ],
   "source": [
    "c.cat.codes.values"
   ]
  },
  {
   "cell_type": "code",
   "execution_count": 39,
   "metadata": {
    "collapsed": false
   },
   "outputs": [
    {
     "data": {
      "text/plain": [
       "(9600, 2)"
      ]
     },
     "execution_count": 39,
     "metadata": {},
     "output_type": "execute_result"
    }
   ],
   "source": [
    "long_partial_logexp.shape"
   ]
  },
  {
   "cell_type": "code",
   "execution_count": null,
   "metadata": {
    "collapsed": true
   },
   "outputs": [],
   "source": []
  },
  {
   "cell_type": "code",
   "execution_count": 114,
   "metadata": {
    "collapsed": false
   },
   "outputs": [
    {
     "name": "stderr",
     "output_type": "stream",
     "text": [
      "WARNING:pystan:Automatic Differentiation Variational Inference (ADVI) is an EXPERIMENTAL ALGORITHM.\n",
      "WARNING:pystan:ADVI samples may be found on the filesystem in the file `/var/folders/wm/zp4vrnhx3bv26jw8wd153384000gb8/T/tmp5w35g5na/output.csv`\n"
     ]
    }
   ],
   "source": [
    "v = model.vb(data=data)"
   ]
  },
  {
   "cell_type": "code",
   "execution_count": 115,
   "metadata": {
    "collapsed": false
   },
   "outputs": [
    {
     "name": "stderr",
     "output_type": "stream",
     "text": [
      "/Users/vs4/anaconda/lib/python3.6/site-packages/IPython/core/interactiveshell.py:2717: DtypeWarning: Columns (0) have mixed types. Specify dtype option on import or set low_memory=False.\n",
      "  interactivity=interactivity, compiler=compiler, result=result)\n"
     ]
    }
   ],
   "source": [
    "df = pd.read_csv(v['args']['sample_file'].decode('ascii'), comment='#').dropna()\n",
    "sdf = df.mean()"
   ]
  },
  {
   "cell_type": "code",
   "execution_count": 116,
   "metadata": {
    "collapsed": false
   },
   "outputs": [
    {
     "data": {
      "text/plain": [
       "Intercept                   0.039099\n",
       "LB_type[T.B]                0.054816\n",
       "sample_type[T.LBQCpos]      0.234175\n",
       "sample_type[T.LBneg]        0.190868\n",
       "sample_type[T.LBpos]        0.227730\n",
       "sample_type[T.multicell]    0.184256\n",
       "sample_type[T.sc]           0.040857\n",
       "np.log(num_genes)           0.010623\n",
       "np.log(num_mapped)          0.008712\n",
       "percent_mapped              0.008863\n",
       "dtype: float64"
      ]
     },
     "execution_count": 116,
     "metadata": {},
     "output_type": "execute_result"
    }
   ],
   "source": [
    "beta = extract_beta(sdf)\n",
    "beta.index = Y.columns\n",
    "beta / beta.sum()"
   ]
  },
  {
   "cell_type": "code",
   "execution_count": 125,
   "metadata": {
    "collapsed": false
   },
   "outputs": [
    {
     "data": {
      "image/png": "[encoded data removed]",
      "text/plain": [
       "<matplotlib.figure.Figure at 0x12f0a30f0>"
      ]
     },
     "metadata": {},
     "output_type": "display_data"
    }
   ],
   "source": [
    "(beta / beta.sum()).plot(kind='bar', color='k');\n",
    "plt.ylabel('Fraction variance explained');"
   ]
  },
  {
   "cell_type": "code",
   "execution_count": 118,
   "metadata": {
    "collapsed": false
   },
   "outputs": [],
   "source": [
    "beta_sum = beta.groupby(beta.index.str.split('[').str.get(0)).sum()"
   ]
  },
  {
   "cell_type": "code",
   "execution_count": 126,
   "metadata": {
    "collapsed": false
   },
   "outputs": [
    {
     "data": {
      "image/png": "[encoded data removed]",
      "text/plain": [
       "<matplotlib.figure.Figure at 0x12f08c860>"
      ]
     },
     "metadata": {},
     "output_type": "display_data"
    }
   ],
   "source": [
    "(beta_sum / beta_sum.sum()).plot(kind='bar', color='k');\n",
    "plt.ylabel('Fraction variance explained');"
   ]
  },
  {
   "cell_type": "code",
   "execution_count": null,
   "metadata": {
    "collapsed": true
   },
   "outputs": [],
   "source": []
  },
  {
   "cell_type": "code",
   "execution_count": null,
   "metadata": {
    "collapsed": true
   },
   "outputs": [],
   "source": []
  },
  {
   "cell_type": "code",
   "execution_count": null,
   "metadata": {
    "collapsed": true
   },
   "outputs": [],
   "source": []
  }
 ],
 "metadata": {
  "kernelspec": {
   "display_name": "Python 3",
   "language": "python",
   "name": "python3"
  },
  "language_info": {
   "codemirror_mode": {
    "name": "ipython",
    "version": 3
   },
   "file_extension": ".py",
   "mimetype": "text/x-python",
   "name": "python",
   "nbconvert_exporter": "python",
   "pygments_lexer": "ipython3",
   "version": "3.6.0"
  }
 },
 "nbformat": 4,
 "nbformat_minor": 2
}
