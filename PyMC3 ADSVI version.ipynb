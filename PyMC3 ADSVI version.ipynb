{
 "cells": [
  {
   "cell_type": "code",
   "execution_count": 1,
   "metadata": {},
   "outputs": [
    {
     "name": "stdout",
     "output_type": "stream",
     "text": [
      "Populating the interactive namespace from numpy and matplotlib\n"
     ]
    }
   ],
   "source": [
    "%pylab inline\n",
    "import pandas as pd\n",
    "import theano\n",
    "theano.config.floatX = 'float64'\n",
    "import pymc3 as pm\n",
    "\n",
    "import theano.tensor as tt"
   ]
  },
  {
   "cell_type": "code",
   "execution_count": 2,
   "metadata": {
    "collapsed": true
   },
   "outputs": [],
   "source": [
    "sample_info = pd.read_csv('~/Google Drive/Research Projects/Finished/LysisBuffers/data_exchange/lysis-buffer-samples.csv', index_col=0)\n",
    "tpm = pd.read_csv('~/Google Drive/Research Projects/Finished/LysisBuffers/data_exchange/lysis-buffer-tpm.csv', index_col=0)\n",
    "logexp = np.log10(tpm + 1)\n",
    "logexp = logexp[sample_info.index]"
   ]
  },
  {
   "cell_type": "code",
   "execution_count": 3,
   "metadata": {
    "collapsed": true
   },
   "outputs": [],
   "source": [
    "import patsy"
   ]
  },
  {
   "cell_type": "code",
   "execution_count": 4,
   "metadata": {
    "collapsed": true
   },
   "outputs": [],
   "source": [
    "Y = patsy.dmatrix('np.log(num_genes) + np.log(num_mapped) + LB_type', sample_info, return_type='dataframe')"
   ]
  },
  {
   "cell_type": "code",
   "execution_count": 42,
   "metadata": {
    "collapsed": true
   },
   "outputs": [],
   "source": [
    "partial_logexp = logexp.sample(100, axis=0)"
   ]
  },
  {
   "cell_type": "code",
   "execution_count": 43,
   "metadata": {
    "collapsed": true
   },
   "outputs": [],
   "source": [
    "long_data = pd.melt(partial_logexp.T.join(Y),\n",
    "                    id_vars=Y.columns.tolist())\n",
    "\n",
    "covars = long_data.drop(['variable', 'value'], 1)\n",
    "genes = long_data.variable.astype('category')\n",
    "y = long_data.value.values\n",
    "\n",
    "N = y.shape[0]\n",
    "P = covars.shape[1]\n",
    "G = genes.cat.categories.shape[0]\n",
    "data = {\n",
    "    'N': N,\n",
    "    'P': P,\n",
    "    'G': G,\n",
    "    'x': covars.values,\n",
    "    'y': y,\n",
    "    'gene': genes.cat.codes.values\n",
    "}"
   ]
  },
  {
   "cell_type": "code",
   "execution_count": 44,
   "metadata": {},
   "outputs": [
    {
     "data": {
      "text/plain": [
       "array([[ 0.,  0.,  0.,  0.]])"
      ]
     },
     "execution_count": 44,
     "metadata": {},
     "output_type": "execute_result"
    }
   ],
   "source": [
    "np.zeros((1,P))"
   ]
  },
  {
   "cell_type": "code",
   "execution_count": 45,
   "metadata": {},
   "outputs": [],
   "source": [
    "x_t = tt.matrix()\n",
    "x_t.tag.test_value = np.zeros((1, P))\n",
    "\n",
    "y_t = tt.vector()\n",
    "y_t.tag.test_value = np.zeros(1)\n",
    "\n",
    "gene_t = tt.vector(dtype='int32')\n",
    "gene_t.tag.test_value = np.zeros(1, dtype=int32)\n",
    "\n",
    "minibatch_tensors = [x_t, y_t, gene_t]"
   ]
  },
  {
   "cell_type": "code",
   "execution_count": 46,
   "metadata": {},
   "outputs": [],
   "source": [
    "with pm.Model() as model:\n",
    "    sigma = pm.Lognormal('sigma', mu=0., sd=1.0, testval=1.0)\n",
    "    alpha = pm.InverseGamma('alpha', alpha=2., beta=1., shape=(P,))\n",
    "    w_list = []\n",
    "    for p in range(data['P']):\n",
    "        w_list.append(pm.Normal('w{}'.format(p), mu=0., sd=alpha[p] * sigma, shape=(G,)))\n",
    "    \n",
    "    w = tt.stack(w_list, axis=1)\n",
    "    \n",
    "    mu = tt.sum(w[gene_t] * x_t, axis=1)\n",
    "    likelihood = pm.Normal('y', mu=mu, sd=sigma, observed=y_t)"
   ]
  },
  {
   "cell_type": "code",
   "execution_count": 47,
   "metadata": {
    "collapsed": true
   },
   "outputs": [],
   "source": [
    "minibatch_RVs = [likelihood]"
   ]
  },
  {
   "cell_type": "code",
   "execution_count": 48,
   "metadata": {},
   "outputs": [
    {
     "data": {
      "text/plain": [
       "(5, 4)"
      ]
     },
     "execution_count": 48,
     "metadata": {},
     "output_type": "execute_result"
    }
   ],
   "source": [
    "data['x'][[4, 3, 4, 3, 4]].shape"
   ]
  },
  {
   "cell_type": "code",
   "execution_count": 49,
   "metadata": {},
   "outputs": [
    {
     "data": {
      "text/plain": [
       "(9600, 4)"
      ]
     },
     "execution_count": 49,
     "metadata": {},
     "output_type": "execute_result"
    }
   ],
   "source": [
    "data['x'].shape"
   ]
  },
  {
   "cell_type": "code",
   "execution_count": 50,
   "metadata": {
    "collapsed": true
   },
   "outputs": [],
   "source": [
    "def minibatch_gen(data):\n",
    "    rng = np.random.RandomState(9)\n",
    "    \n",
    "    while True:\n",
    "        ixs = rng.randint(len(data['x']), size=200)\n",
    "        yield data['x'][ixs], data['y'][ixs], data['gene'][ixs]"
   ]
  },
  {
   "cell_type": "code",
   "execution_count": 51,
   "metadata": {},
   "outputs": [],
   "source": [
    "minibatches = minibatch_gen(data)"
   ]
  },
  {
   "cell_type": "code",
   "execution_count": 52,
   "metadata": {},
   "outputs": [
    {
     "name": "stderr",
     "output_type": "stream",
     "text": [
      "Average ELBO = -3,462.12: 100%|████████████████████████████████████████████████| 50000/50000 [00:27<00:00, 1846.16it/s]\n",
      "Finished minibatch ADVI: ELBO = -5,819.55\n"
     ]
    }
   ],
   "source": [
    "means, sds, elbos = pm.variational.advi_minibatch(\n",
    "    model=model, n=50000, minibatch_tensors=minibatch_tensors,\n",
    "    minibatch_RVs=minibatch_RVs, minibatches=minibatches,\n",
    "    total_size=len(data['x'])\n",
    ")"
   ]
  },
  {
   "cell_type": "code",
   "execution_count": 57,
   "metadata": {},
   "outputs": [
    {
     "data": {
      "image/png": "[encoded data removed]",
      "text/plain": [
       "<matplotlib.figure.Figure at 0x209f2f9c3c8>"
      ]
     },
     "metadata": {},
     "output_type": "display_data"
    }
   ],
   "source": [
    "plt.plot(elbos)\n",
    "plt.ylim(-1e5, 0);"
   ]
  },
  {
   "cell_type": "code",
   "execution_count": 55,
   "metadata": {},
   "outputs": [
    {
     "data": {
      "text/plain": [
       "array([ 0.16931869,  0.2465727 ,  0.02460694,  0.11433249])"
      ]
     },
     "execution_count": 55,
     "metadata": {},
     "output_type": "execute_result"
    }
   ],
   "source": [
    "np.exp(means['alpha_log_'])"
   ]
  },
  {
   "cell_type": "code",
   "execution_count": null,
   "metadata": {
    "collapsed": true
   },
   "outputs": [],
   "source": []
  },
  {
   "cell_type": "code",
   "execution_count": null,
   "metadata": {
    "collapsed": true
   },
   "outputs": [],
   "source": []
  },
  {
   "cell_type": "code",
   "execution_count": null,
   "metadata": {
    "collapsed": true
   },
   "outputs": [],
   "source": []
  },
  {
   "cell_type": "code",
   "execution_count": null,
   "metadata": {
    "collapsed": true
   },
   "outputs": [],
   "source": []
  },
  {
   "cell_type": "code",
   "execution_count": null,
   "metadata": {
    "collapsed": true
   },
   "outputs": [],
   "source": []
  },
  {
   "cell_type": "code",
   "execution_count": null,
   "metadata": {
    "collapsed": true
   },
   "outputs": [],
   "source": []
  },
  {
   "cell_type": "code",
   "execution_count": null,
   "metadata": {
    "collapsed": true
   },
   "outputs": [],
   "source": []
  }
 ],
 "metadata": {
  "kernelspec": {
   "display_name": "Python [default]",
   "language": "python",
   "name": "python3"
  },
  "language_info": {
   "codemirror_mode": {
    "name": "ipython",
    "version": 3
   },
   "file_extension": ".py",
   "mimetype": "text/x-python",
   "name": "python",
   "nbconvert_exporter": "python",
   "pygments_lexer": "ipython3",
   "version": "3.5.2"
  }
 },
 "nbformat": 4,
 "nbformat_minor": 2
}
