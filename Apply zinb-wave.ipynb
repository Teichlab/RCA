{
 "cells": [
  {
   "cell_type": "code",
   "execution_count": 1,
   "metadata": {
    "collapsed": false
   },
   "outputs": [
    {
     "name": "stdout",
     "output_type": "stream",
     "text": [
      "Populating the interactive namespace from numpy and matplotlib\n"
     ]
    }
   ],
   "source": [
    "%pylab inline\n",
    "import pandas as pd"
   ]
  },
  {
   "cell_type": "code",
   "execution_count": 272,
   "metadata": {
    "collapsed": true
   },
   "outputs": [],
   "source": [
    "sample_info = pd.read_csv('~/Google Drive/Research Projects/Finished/LysisBuffers/data_exchange/lysis-buffer-samples.csv', index_col=0)\n",
    "counts = pd.read_csv('~/Google Drive/Research Projects/Finished/LysisBuffers/data_exchange/lysis-buffer-counts.csv', index_col=0)\n",
    "counts = counts.pipe(np.round).astype(int)\n",
    "counts = counts[sample_info.index]"
   ]
  },
  {
   "cell_type": "code",
   "execution_count": 273,
   "metadata": {
    "collapsed": true
   },
   "outputs": [],
   "source": [
    "idx = counts.pipe(np.log1p).var(1).sort_values(ascending=False).head(100).index"
   ]
  },
  {
   "cell_type": "code",
   "execution_count": 274,
   "metadata": {
    "collapsed": false
   },
   "outputs": [
    {
     "data": {
      "image/png": "[encoded data removed]",
      "text/plain": [
       "<matplotlib.figure.Figure at 0x121ff2a20>"
      ]
     },
     "metadata": {},
     "output_type": "display_data"
    }
   ],
   "source": [
    "mus = counts.pipe(np.log1p).mean(1)\n",
    "vas = counts.pipe(np.log1p).var(1)\n",
    "plt.scatter(mus, vas);\n",
    "plt.scatter(mus[idx], vas[idx]);"
   ]
  },
  {
   "cell_type": "code",
   "execution_count": 275,
   "metadata": {
    "collapsed": true
   },
   "outputs": [],
   "source": [
    "import patsy\n",
    "\n",
    "Y = patsy.dmatrix('np.log1p(MT_content) + percent_mapped + sample_type', sample_info, return_type='dataframe')\n",
    "y = np.asarray(Y)"
   ]
  },
  {
   "cell_type": "code",
   "execution_count": 276,
   "metadata": {
    "collapsed": true
   },
   "outputs": [],
   "source": [
    "hv_counts = counts.loc[idx]"
   ]
  },
  {
   "cell_type": "code",
   "execution_count": 277,
   "metadata": {
    "collapsed": false
   },
   "outputs": [],
   "source": [
    "Y_ = Y.join(pd.DataFrame({'cell': Y.index}, index=Y.index))\n",
    "long_data = pd.melt(hv_counts.T.join(Y_), id_vars=Y_.columns.tolist()).dropna()\n",
    "covars = long_data.drop(['variable', 'value', 'cell'], 1)\n",
    "genes = long_data.variable.astype('category')\n",
    "cells = long_data.cell.astype('category')\n",
    "y = long_data.value.values"
   ]
  },
  {
   "cell_type": "code",
   "execution_count": 278,
   "metadata": {
    "collapsed": true
   },
   "outputs": [],
   "source": [
    "import pickle\n",
    "\n",
    "with open('zinb-wave.pkl', 'rb') as fh:\n",
    "    model = pickle.load(fh)"
   ]
  },
  {
   "cell_type": "code",
   "execution_count": 279,
   "metadata": {
    "collapsed": false
   },
   "outputs": [],
   "source": [
    "N = y.shape[0]\n",
    "P = covars.shape[1]\n",
    "G = genes.cat.categories.shape[0]\n",
    "C = cells.cat.categories.shape[0]\n",
    "data = {\n",
    "    'N': N,\n",
    "    'P': P,\n",
    "    'K': 2,\n",
    "    'G': G,\n",
    "    'C': C,\n",
    "    'x': covars.values,\n",
    "    'y': y,\n",
    "    'gene': genes.cat.codes.values + 1,\n",
    "    'cell': cells.cat.codes.values + 1\n",
    "}"
   ]
  },
  {
   "cell_type": "code",
   "execution_count": 280,
   "metadata": {
    "collapsed": false,
    "scrolled": false
   },
   "outputs": [
    {
     "name": "stderr",
     "output_type": "stream",
     "text": [
      "WARNING:pystan:Automatic Differentiation Variational Inference (ADVI) is an EXPERIMENTAL ALGORITHM.\n",
      "WARNING:pystan:ADVI samples may be found on the filesystem in the file `/var/folders/wm/zp4vrnhx3bv26jw8wd153384000gb8/T/tmppnkeacan/output.csv`\n"
     ]
    }
   ],
   "source": [
    "v = model.vb(data=data, iter=2000)"
   ]
  },
  {
   "cell_type": "code",
   "execution_count": 281,
   "metadata": {
    "collapsed": false
   },
   "outputs": [
    {
     "name": "stderr",
     "output_type": "stream",
     "text": [
      "/Users/vs4/anaconda/lib/python3.6/site-packages/IPython/core/interactiveshell.py:2717: DtypeWarning: Columns (0) have mixed types. Specify dtype option on import or set low_memory=False.\n",
      "  interactivity=interactivity, compiler=compiler, result=result)\n"
     ]
    }
   ],
   "source": [
    "df = pd.read_csv(v['args']['sample_file'].decode('ascii'), comment='#').dropna()\n",
    "sdf = df.mean()"
   ]
  },
  {
   "cell_type": "code",
   "execution_count": 282,
   "metadata": {
    "collapsed": false
   },
   "outputs": [],
   "source": [
    "v_w = sdf[sdf.index.str.startswith('w.')]"
   ]
  },
  {
   "cell_type": "code",
   "execution_count": 283,
   "metadata": {
    "collapsed": false
   },
   "outputs": [],
   "source": [
    "df_v_w = v_w.index.str.extract('w\\.(\\d+)\\.(\\d+)', expand=True).astype(int)\n",
    "df_v_w.columns = ['dim', 'cell']\n",
    "df_v_w['value'] = v_w.values\n",
    "w = df_v_w.pivot_table(values='value', columns=['dim'], index=['cell'])"
   ]
  },
  {
   "cell_type": "code",
   "execution_count": 284,
   "metadata": {
    "collapsed": false
   },
   "outputs": [],
   "source": [
    "c = sample_info.loc[cells.cat.categories[w.index - 1]]['LB_type'] == 'A'"
   ]
  },
  {
   "cell_type": "code",
   "execution_count": 285,
   "metadata": {
    "collapsed": false
   },
   "outputs": [
    {
     "data": {
      "image/png": "[encoded data removed]",
      "text/plain": [
       "<matplotlib.figure.Figure at 0x116677278>"
      ]
     },
     "metadata": {},
     "output_type": "display_data"
    }
   ],
   "source": [
    "plt.scatter(w[1], w[2], c=c);"
   ]
  },
  {
   "cell_type": "code",
   "execution_count": null,
   "metadata": {
    "collapsed": true
   },
   "outputs": [],
   "source": []
  },
  {
   "cell_type": "code",
   "execution_count": null,
   "metadata": {
    "collapsed": true
   },
   "outputs": [],
   "source": []
  },
  {
   "cell_type": "code",
   "execution_count": null,
   "metadata": {
    "collapsed": true
   },
   "outputs": [],
   "source": []
  }
 ],
 "metadata": {
  "kernelspec": {
   "display_name": "Python 3",
   "language": "python",
   "name": "python3"
  },
  "language_info": {
   "codemirror_mode": {
    "name": "ipython",
    "version": 3
   },
   "file_extension": ".py",
   "mimetype": "text/x-python",
   "name": "python",
   "nbconvert_exporter": "python",
   "pygments_lexer": "ipython3",
   "version": "3.6.0"
  }
 },
 "nbformat": 4,
 "nbformat_minor": 2
}
