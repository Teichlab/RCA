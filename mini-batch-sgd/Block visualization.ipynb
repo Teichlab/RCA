{
 "cells": [
  {
   "cell_type": "code",
   "execution_count": 1,
   "metadata": {},
   "outputs": [
    {
     "name": "stdout",
     "output_type": "stream",
     "text": [
      "Populating the interactive namespace from numpy and matplotlib\n"
     ]
    }
   ],
   "source": [
    "%pylab inline\n",
    "import pandas as pd"
   ]
  },
  {
   "cell_type": "code",
   "execution_count": 2,
   "metadata": {},
   "outputs": [
    {
     "data": {
      "text/html": [
       "<div>\n",
       "<style>\n",
       "    .dataframe thead tr:only-child th {\n",
       "        text-align: right;\n",
       "    }\n",
       "\n",
       "    .dataframe thead th {\n",
       "        text-align: left;\n",
       "    }\n",
       "\n",
       "    .dataframe tbody tr th {\n",
       "        vertical-align: top;\n",
       "    }\n",
       "</style>\n",
       "<table border=\"1\" class=\"dataframe\">\n",
       "  <thead>\n",
       "    <tr style=\"text-align: right;\">\n",
       "      <th></th>\n",
       "      <th>0</th>\n",
       "      <th>1</th>\n",
       "      <th>2</th>\n",
       "      <th>3</th>\n",
       "    </tr>\n",
       "  </thead>\n",
       "  <tbody>\n",
       "    <tr>\n",
       "      <th>0</th>\n",
       "      <td>-0.053001</td>\n",
       "      <td>-1.470007</td>\n",
       "      <td>0.104117</td>\n",
       "      <td>-1.457770</td>\n",
       "    </tr>\n",
       "    <tr>\n",
       "      <th>1</th>\n",
       "      <td>-1.499523</td>\n",
       "      <td>-1.182199</td>\n",
       "      <td>0.330607</td>\n",
       "      <td>0.433575</td>\n",
       "    </tr>\n",
       "    <tr>\n",
       "      <th>2</th>\n",
       "      <td>-0.384831</td>\n",
       "      <td>-0.045553</td>\n",
       "      <td>-0.995128</td>\n",
       "      <td>0.553787</td>\n",
       "    </tr>\n",
       "    <tr>\n",
       "      <th>3</th>\n",
       "      <td>1.251903</td>\n",
       "      <td>0.018306</td>\n",
       "      <td>-0.881204</td>\n",
       "      <td>0.239230</td>\n",
       "    </tr>\n",
       "    <tr>\n",
       "      <th>4</th>\n",
       "      <td>-0.875334</td>\n",
       "      <td>1.016988</td>\n",
       "      <td>0.594429</td>\n",
       "      <td>-0.149192</td>\n",
       "    </tr>\n",
       "    <tr>\n",
       "      <th>5</th>\n",
       "      <td>0.171724</td>\n",
       "      <td>-0.098421</td>\n",
       "      <td>-1.634406</td>\n",
       "      <td>1.849097</td>\n",
       "    </tr>\n",
       "    <tr>\n",
       "      <th>6</th>\n",
       "      <td>0.441208</td>\n",
       "      <td>-0.323845</td>\n",
       "      <td>1.434284</td>\n",
       "      <td>-0.735001</td>\n",
       "    </tr>\n",
       "    <tr>\n",
       "      <th>7</th>\n",
       "      <td>-0.317843</td>\n",
       "      <td>1.674805</td>\n",
       "      <td>-0.280484</td>\n",
       "      <td>-0.786436</td>\n",
       "    </tr>\n",
       "    <tr>\n",
       "      <th>8</th>\n",
       "      <td>0.210568</td>\n",
       "      <td>-0.984078</td>\n",
       "      <td>-0.077481</td>\n",
       "      <td>-0.590071</td>\n",
       "    </tr>\n",
       "    <tr>\n",
       "      <th>9</th>\n",
       "      <td>-0.781282</td>\n",
       "      <td>0.510765</td>\n",
       "      <td>1.342112</td>\n",
       "      <td>0.200317</td>\n",
       "    </tr>\n",
       "  </tbody>\n",
       "</table>\n",
       "</div>"
      ],
      "text/plain": [
       "          0         1         2         3\n",
       "0 -0.053001 -1.470007  0.104117 -1.457770\n",
       "1 -1.499523 -1.182199  0.330607  0.433575\n",
       "2 -0.384831 -0.045553 -0.995128  0.553787\n",
       "3  1.251903  0.018306 -0.881204  0.239230\n",
       "4 -0.875334  1.016988  0.594429 -0.149192\n",
       "5  0.171724 -0.098421 -1.634406  1.849097\n",
       "6  0.441208 -0.323845  1.434284 -0.735001\n",
       "7 -0.317843  1.674805 -0.280484 -0.786436\n",
       "8  0.210568 -0.984078 -0.077481 -0.590071\n",
       "9 -0.781282  0.510765  1.342112  0.200317"
      ]
     },
     "execution_count": 2,
     "metadata": {},
     "output_type": "execute_result"
    }
   ],
   "source": [
    "df = pd.DataFrame.from_records(np.random.randn(10, 4))\n",
    "df"
   ]
  },
  {
   "cell_type": "code",
   "execution_count": 3,
   "metadata": {
    "collapsed": true
   },
   "outputs": [],
   "source": [
    "df['cell'] = df.index"
   ]
  },
  {
   "cell_type": "code",
   "execution_count": 4,
   "metadata": {
    "collapsed": true
   },
   "outputs": [],
   "source": [
    "long = df.melt(id_vars=['cell'])"
   ]
  },
  {
   "cell_type": "code",
   "execution_count": 5,
   "metadata": {},
   "outputs": [
    {
     "data": {
      "text/html": [
       "<div>\n",
       "<style>\n",
       "    .dataframe thead tr:only-child th {\n",
       "        text-align: right;\n",
       "    }\n",
       "\n",
       "    .dataframe thead th {\n",
       "        text-align: left;\n",
       "    }\n",
       "\n",
       "    .dataframe tbody tr th {\n",
       "        vertical-align: top;\n",
       "    }\n",
       "</style>\n",
       "<table border=\"1\" class=\"dataframe\">\n",
       "  <thead>\n",
       "    <tr style=\"text-align: right;\">\n",
       "      <th></th>\n",
       "      <th>cell</th>\n",
       "      <th>variable</th>\n",
       "      <th>value</th>\n",
       "    </tr>\n",
       "  </thead>\n",
       "  <tbody>\n",
       "    <tr>\n",
       "      <th>0</th>\n",
       "      <td>0</td>\n",
       "      <td>0</td>\n",
       "      <td>-0.053001</td>\n",
       "    </tr>\n",
       "    <tr>\n",
       "      <th>1</th>\n",
       "      <td>1</td>\n",
       "      <td>0</td>\n",
       "      <td>-1.499523</td>\n",
       "    </tr>\n",
       "    <tr>\n",
       "      <th>2</th>\n",
       "      <td>2</td>\n",
       "      <td>0</td>\n",
       "      <td>-0.384831</td>\n",
       "    </tr>\n",
       "    <tr>\n",
       "      <th>3</th>\n",
       "      <td>3</td>\n",
       "      <td>0</td>\n",
       "      <td>1.251903</td>\n",
       "    </tr>\n",
       "    <tr>\n",
       "      <th>4</th>\n",
       "      <td>4</td>\n",
       "      <td>0</td>\n",
       "      <td>-0.875334</td>\n",
       "    </tr>\n",
       "    <tr>\n",
       "      <th>5</th>\n",
       "      <td>5</td>\n",
       "      <td>0</td>\n",
       "      <td>0.171724</td>\n",
       "    </tr>\n",
       "    <tr>\n",
       "      <th>6</th>\n",
       "      <td>6</td>\n",
       "      <td>0</td>\n",
       "      <td>0.441208</td>\n",
       "    </tr>\n",
       "    <tr>\n",
       "      <th>7</th>\n",
       "      <td>7</td>\n",
       "      <td>0</td>\n",
       "      <td>-0.317843</td>\n",
       "    </tr>\n",
       "    <tr>\n",
       "      <th>8</th>\n",
       "      <td>8</td>\n",
       "      <td>0</td>\n",
       "      <td>0.210568</td>\n",
       "    </tr>\n",
       "    <tr>\n",
       "      <th>9</th>\n",
       "      <td>9</td>\n",
       "      <td>0</td>\n",
       "      <td>-0.781282</td>\n",
       "    </tr>\n",
       "    <tr>\n",
       "      <th>10</th>\n",
       "      <td>0</td>\n",
       "      <td>1</td>\n",
       "      <td>-1.470007</td>\n",
       "    </tr>\n",
       "    <tr>\n",
       "      <th>11</th>\n",
       "      <td>1</td>\n",
       "      <td>1</td>\n",
       "      <td>-1.182199</td>\n",
       "    </tr>\n",
       "    <tr>\n",
       "      <th>12</th>\n",
       "      <td>2</td>\n",
       "      <td>1</td>\n",
       "      <td>-0.045553</td>\n",
       "    </tr>\n",
       "    <tr>\n",
       "      <th>13</th>\n",
       "      <td>3</td>\n",
       "      <td>1</td>\n",
       "      <td>0.018306</td>\n",
       "    </tr>\n",
       "    <tr>\n",
       "      <th>14</th>\n",
       "      <td>4</td>\n",
       "      <td>1</td>\n",
       "      <td>1.016988</td>\n",
       "    </tr>\n",
       "    <tr>\n",
       "      <th>15</th>\n",
       "      <td>5</td>\n",
       "      <td>1</td>\n",
       "      <td>-0.098421</td>\n",
       "    </tr>\n",
       "    <tr>\n",
       "      <th>16</th>\n",
       "      <td>6</td>\n",
       "      <td>1</td>\n",
       "      <td>-0.323845</td>\n",
       "    </tr>\n",
       "    <tr>\n",
       "      <th>17</th>\n",
       "      <td>7</td>\n",
       "      <td>1</td>\n",
       "      <td>1.674805</td>\n",
       "    </tr>\n",
       "    <tr>\n",
       "      <th>18</th>\n",
       "      <td>8</td>\n",
       "      <td>1</td>\n",
       "      <td>-0.984078</td>\n",
       "    </tr>\n",
       "    <tr>\n",
       "      <th>19</th>\n",
       "      <td>9</td>\n",
       "      <td>1</td>\n",
       "      <td>0.510765</td>\n",
       "    </tr>\n",
       "    <tr>\n",
       "      <th>20</th>\n",
       "      <td>0</td>\n",
       "      <td>2</td>\n",
       "      <td>0.104117</td>\n",
       "    </tr>\n",
       "    <tr>\n",
       "      <th>21</th>\n",
       "      <td>1</td>\n",
       "      <td>2</td>\n",
       "      <td>0.330607</td>\n",
       "    </tr>\n",
       "    <tr>\n",
       "      <th>22</th>\n",
       "      <td>2</td>\n",
       "      <td>2</td>\n",
       "      <td>-0.995128</td>\n",
       "    </tr>\n",
       "    <tr>\n",
       "      <th>23</th>\n",
       "      <td>3</td>\n",
       "      <td>2</td>\n",
       "      <td>-0.881204</td>\n",
       "    </tr>\n",
       "    <tr>\n",
       "      <th>24</th>\n",
       "      <td>4</td>\n",
       "      <td>2</td>\n",
       "      <td>0.594429</td>\n",
       "    </tr>\n",
       "    <tr>\n",
       "      <th>25</th>\n",
       "      <td>5</td>\n",
       "      <td>2</td>\n",
       "      <td>-1.634406</td>\n",
       "    </tr>\n",
       "    <tr>\n",
       "      <th>26</th>\n",
       "      <td>6</td>\n",
       "      <td>2</td>\n",
       "      <td>1.434284</td>\n",
       "    </tr>\n",
       "    <tr>\n",
       "      <th>27</th>\n",
       "      <td>7</td>\n",
       "      <td>2</td>\n",
       "      <td>-0.280484</td>\n",
       "    </tr>\n",
       "    <tr>\n",
       "      <th>28</th>\n",
       "      <td>8</td>\n",
       "      <td>2</td>\n",
       "      <td>-0.077481</td>\n",
       "    </tr>\n",
       "    <tr>\n",
       "      <th>29</th>\n",
       "      <td>9</td>\n",
       "      <td>2</td>\n",
       "      <td>1.342112</td>\n",
       "    </tr>\n",
       "    <tr>\n",
       "      <th>30</th>\n",
       "      <td>0</td>\n",
       "      <td>3</td>\n",
       "      <td>-1.457770</td>\n",
       "    </tr>\n",
       "    <tr>\n",
       "      <th>31</th>\n",
       "      <td>1</td>\n",
       "      <td>3</td>\n",
       "      <td>0.433575</td>\n",
       "    </tr>\n",
       "    <tr>\n",
       "      <th>32</th>\n",
       "      <td>2</td>\n",
       "      <td>3</td>\n",
       "      <td>0.553787</td>\n",
       "    </tr>\n",
       "    <tr>\n",
       "      <th>33</th>\n",
       "      <td>3</td>\n",
       "      <td>3</td>\n",
       "      <td>0.239230</td>\n",
       "    </tr>\n",
       "    <tr>\n",
       "      <th>34</th>\n",
       "      <td>4</td>\n",
       "      <td>3</td>\n",
       "      <td>-0.149192</td>\n",
       "    </tr>\n",
       "    <tr>\n",
       "      <th>35</th>\n",
       "      <td>5</td>\n",
       "      <td>3</td>\n",
       "      <td>1.849097</td>\n",
       "    </tr>\n",
       "    <tr>\n",
       "      <th>36</th>\n",
       "      <td>6</td>\n",
       "      <td>3</td>\n",
       "      <td>-0.735001</td>\n",
       "    </tr>\n",
       "    <tr>\n",
       "      <th>37</th>\n",
       "      <td>7</td>\n",
       "      <td>3</td>\n",
       "      <td>-0.786436</td>\n",
       "    </tr>\n",
       "    <tr>\n",
       "      <th>38</th>\n",
       "      <td>8</td>\n",
       "      <td>3</td>\n",
       "      <td>-0.590071</td>\n",
       "    </tr>\n",
       "    <tr>\n",
       "      <th>39</th>\n",
       "      <td>9</td>\n",
       "      <td>3</td>\n",
       "      <td>0.200317</td>\n",
       "    </tr>\n",
       "  </tbody>\n",
       "</table>\n",
       "</div>"
      ],
      "text/plain": [
       "    cell variable     value\n",
       "0      0        0 -0.053001\n",
       "1      1        0 -1.499523\n",
       "2      2        0 -0.384831\n",
       "3      3        0  1.251903\n",
       "4      4        0 -0.875334\n",
       "5      5        0  0.171724\n",
       "6      6        0  0.441208\n",
       "7      7        0 -0.317843\n",
       "8      8        0  0.210568\n",
       "9      9        0 -0.781282\n",
       "10     0        1 -1.470007\n",
       "11     1        1 -1.182199\n",
       "12     2        1 -0.045553\n",
       "13     3        1  0.018306\n",
       "14     4        1  1.016988\n",
       "15     5        1 -0.098421\n",
       "16     6        1 -0.323845\n",
       "17     7        1  1.674805\n",
       "18     8        1 -0.984078\n",
       "19     9        1  0.510765\n",
       "20     0        2  0.104117\n",
       "21     1        2  0.330607\n",
       "22     2        2 -0.995128\n",
       "23     3        2 -0.881204\n",
       "24     4        2  0.594429\n",
       "25     5        2 -1.634406\n",
       "26     6        2  1.434284\n",
       "27     7        2 -0.280484\n",
       "28     8        2 -0.077481\n",
       "29     9        2  1.342112\n",
       "30     0        3 -1.457770\n",
       "31     1        3  0.433575\n",
       "32     2        3  0.553787\n",
       "33     3        3  0.239230\n",
       "34     4        3 -0.149192\n",
       "35     5        3  1.849097\n",
       "36     6        3 -0.735001\n",
       "37     7        3 -0.786436\n",
       "38     8        3 -0.590071\n",
       "39     9        3  0.200317"
      ]
     },
     "execution_count": 5,
     "metadata": {},
     "output_type": "execute_result"
    }
   ],
   "source": [
    "long"
   ]
  },
  {
   "cell_type": "code",
   "execution_count": 6,
   "metadata": {},
   "outputs": [
    {
     "data": {
      "image/png": "[encoded data removed]",
      "text/plain": [
       "<matplotlib.figure.Figure at 0x1b624c8de48>"
      ]
     },
     "metadata": {},
     "output_type": "display_data"
    }
   ],
   "source": [
    "plt.pcolor(df.drop('cell', 1), edgecolor='k');"
   ]
  },
  {
   "cell_type": "code",
   "execution_count": 7,
   "metadata": {},
   "outputs": [
    {
     "data": {
      "text/plain": [
       "<matplotlib.collections.PolyCollection at 0x1b624dbc5f8>"
      ]
     },
     "execution_count": 7,
     "metadata": {},
     "output_type": "execute_result"
    },
    {
     "data": {
      "image/png": "[encoded data removed]",
      "text/plain": [
       "<matplotlib.figure.Figure at 0x1b624d37940>"
      ]
     },
     "metadata": {},
     "output_type": "display_data"
    }
   ],
   "source": [
    "plt.pcolor(long.values.astype(float), edgecolor='k')"
   ]
  },
  {
   "cell_type": "code",
   "execution_count": 8,
   "metadata": {},
   "outputs": [
    {
     "data": {
      "image/png": "[encoded data removed]",
      "text/plain": [
       "<matplotlib.figure.Figure at 0x1b624d921d0>"
      ]
     },
     "metadata": {},
     "output_type": "display_data"
    }
   ],
   "source": [
    "M = long.values.astype(float) * 0\n",
    "M[:5,:] = 1\n",
    "plt.pcolor(M, edgecolor='k', cmap=cm.Greys, alpha=0.3, )\n",
    "plt.gca().invert_yaxis();"
   ]
  },
  {
   "cell_type": "code",
   "execution_count": 9,
   "metadata": {},
   "outputs": [
    {
     "data": {
      "text/html": [
       "<div>\n",
       "<style>\n",
       "    .dataframe thead tr:only-child th {\n",
       "        text-align: right;\n",
       "    }\n",
       "\n",
       "    .dataframe thead th {\n",
       "        text-align: left;\n",
       "    }\n",
       "\n",
       "    .dataframe tbody tr th {\n",
       "        vertical-align: top;\n",
       "    }\n",
       "</style>\n",
       "<table border=\"1\" class=\"dataframe\">\n",
       "  <thead>\n",
       "    <tr style=\"text-align: right;\">\n",
       "      <th></th>\n",
       "      <th>cell</th>\n",
       "      <th>variable</th>\n",
       "      <th>value</th>\n",
       "    </tr>\n",
       "  </thead>\n",
       "  <tbody>\n",
       "    <tr>\n",
       "      <th>0</th>\n",
       "      <td>0</td>\n",
       "      <td>0</td>\n",
       "      <td>-0.053001</td>\n",
       "    </tr>\n",
       "    <tr>\n",
       "      <th>1</th>\n",
       "      <td>1</td>\n",
       "      <td>0</td>\n",
       "      <td>-1.499523</td>\n",
       "    </tr>\n",
       "    <tr>\n",
       "      <th>2</th>\n",
       "      <td>2</td>\n",
       "      <td>0</td>\n",
       "      <td>-0.384831</td>\n",
       "    </tr>\n",
       "    <tr>\n",
       "      <th>3</th>\n",
       "      <td>3</td>\n",
       "      <td>0</td>\n",
       "      <td>1.251903</td>\n",
       "    </tr>\n",
       "    <tr>\n",
       "      <th>4</th>\n",
       "      <td>4</td>\n",
       "      <td>0</td>\n",
       "      <td>-0.875334</td>\n",
       "    </tr>\n",
       "  </tbody>\n",
       "</table>\n",
       "</div>"
      ],
      "text/plain": [
       "   cell variable     value\n",
       "0     0        0 -0.053001\n",
       "1     1        0 -1.499523\n",
       "2     2        0 -0.384831\n",
       "3     3        0  1.251903\n",
       "4     4        0 -0.875334"
      ]
     },
     "execution_count": 9,
     "metadata": {},
     "output_type": "execute_result"
    }
   ],
   "source": [
    "long.iloc[:5]"
   ]
  },
  {
   "cell_type": "code",
   "execution_count": 17,
   "metadata": {
    "collapsed": true
   },
   "outputs": [],
   "source": [
    "plt.rcParams['axes.spines.right'] = False\n",
    "plt.rcParams['axes.spines.top'] = False\n",
    "plt.rcParams['axes.spines.left'] = False\n",
    "plt.rcParams['axes.spines.bottom'] = False"
   ]
  },
  {
   "cell_type": "code",
   "execution_count": 75,
   "metadata": {},
   "outputs": [
    {
     "data": {
      "image/png": "[encoded data removed]",
      "text/plain": [
       "<matplotlib.figure.Figure at 0x1b62691fe80>"
      ]
     },
     "metadata": {},
     "output_type": "display_data"
    }
   ],
   "source": [
    "figsize(8, 8)\n",
    "\n",
    "plt.subplot2grid((8, 8), (2, 0), colspan=3, rowspan=4)\n",
    "\n",
    "M = df.drop('cell', 1) * 0\n",
    "\n",
    "plt.pcolor(M, edgecolor='k', cmap=cm.Greys, alpha=0.3, )\n",
    "\n",
    "plt.gca().invert_yaxis();\n",
    "\n",
    "plt.xticks(np.arange(4) + 0.5, np.arange(4));\n",
    "plt.yticks(np.arange(10) + 0.5, np.arange(10));\n",
    "\n",
    "plt.xlabel('Variable')\n",
    "plt.ylabel('Observation');\n",
    "\n",
    "plt.title('Wide form')\n",
    "\n",
    "plt.subplot2grid((8, 8), (0, 5), colspan=2, rowspan=8)\n",
    "\n",
    "M = long_s.values.astype(float) * 0\n",
    "\n",
    "plt.pcolor(M, edgecolor='k', cmap=cm.Greys, alpha=0.3, )\n",
    "plt.gca().invert_yaxis();\n",
    "\n",
    "plt.xticks(np.arange(3) + 0.5, ['variable', 'observation', 'value'], rotation=30);\n",
    "\n",
    "plt.title('Long form');"
   ]
  },
  {
   "cell_type": "code",
   "execution_count": 111,
   "metadata": {},
   "outputs": [],
   "source": [
    "batch_size = 7\n",
    "k = 0\n",
    "\n",
    "def plot_batch_training(k):\n",
    "    figsize(8, 8)\n",
    "\n",
    "    plt.subplot2grid((8, 12), (2, 0), colspan=3, rowspan=4)\n",
    "\n",
    "    M = df.drop('cell', 1) * 0\n",
    "    for i, j in zip(long.iloc[k * batch_size:(k + 1) * batch_size].cell,\n",
    "                    long.iloc[k * batch_size:(k + 1) * batch_size].variable):\n",
    "        M.loc[i, j] = 1\n",
    "\n",
    "    plt.pcolor(M, edgecolor='k', cmap=cm.Greys, alpha=0.3, )\n",
    "\n",
    "    plt.gca().invert_yaxis();\n",
    "\n",
    "    plt.xticks(np.arange(4) + 0.5, np.arange(4));\n",
    "    plt.yticks(np.arange(10) + 0.5, np.arange(10));\n",
    "\n",
    "    plt.xlabel('Variable')\n",
    "    plt.ylabel('Observation');\n",
    "\n",
    "    plt.title('Wide form')\n",
    "\n",
    "    plt.subplot2grid((8, 12), (0, 5), colspan=2, rowspan=8)\n",
    "\n",
    "    M = long_s.values.astype(float) * 0\n",
    "    M[k * batch_size:(k + 1) * batch_size,:] = 1\n",
    "\n",
    "    plt.pcolor(M, edgecolor='k', cmap=cm.Greys, alpha=0.3, )\n",
    "    plt.gca().invert_yaxis();\n",
    "\n",
    "    plt.xticks(np.arange(3) + 0.5, ['variable', 'observation', 'value'], rotation=90);\n",
    "\n",
    "    plt.title('Long form');\n",
    "\n",
    "    plt.subplot2grid((8, 12), (4, 9), colspan=2, rowspan=1)\n",
    "\n",
    "    M = np.zeros((1, 4))\n",
    "    for i, j in zip(long.iloc[k * batch_size:(k + 1) * batch_size].cell,\n",
    "                    long.iloc[k * batch_size:(k + 1) * batch_size].variable):\n",
    "        M[0, j] = 1\n",
    "\n",
    "    plt.pcolor(M, edgecolor='k', cmap=cm.Reds, alpha=0.3, )\n",
    "    plt.xticks(np.arange(4) + 0.5, np.arange(4));\n",
    "    plt.yticks([])\n",
    "    plt.title('Weights')\n",
    "\n",
    "    plt.subplot2grid((8, 12), (2, 11), colspan=1, rowspan=4)\n",
    "\n",
    "    M = np.zeros((10, 1))\n",
    "    for i, j in zip(long.iloc[k * batch_size:(k + 1) * batch_size].cell,\n",
    "                    long.iloc[k * batch_size:(k + 1) * batch_size].variable):\n",
    "        M[i, 0] = 1\n",
    "\n",
    "    plt.pcolor(M, edgecolor='k', cmap=cm.Reds, alpha=0.3, )\n",
    "    plt.xticks([])\n",
    "    plt.yticks(np.arange(10) + 0.5, np.arange(10));\n",
    "    plt.gca().invert_yaxis();\n",
    "\n",
    "    plt.title('PC1')\n",
    "\n",
    "    plt.tight_layout()"
   ]
  },
  {
   "cell_type": "code",
   "execution_count": 119,
   "metadata": {},
   "outputs": [
    {
     "data": {
      "image/png": "[encoded data removed]",
      "text/plain": [
       "<matplotlib.figure.Figure at 0x1b6276fa048>"
      ]
     },
     "metadata": {},
     "output_type": "display_data"
    }
   ],
   "source": [
    "for k in range(6):\n",
    "    plot_batch_training(k)\n",
    "    plt.savefig('batches_long/{}.png'.format(k))"
   ]
  },
  {
   "cell_type": "code",
   "execution_count": 120,
   "metadata": {
    "collapsed": true
   },
   "outputs": [],
   "source": [
    "long_s = long.sample(frac=1)"
   ]
  },
  {
   "cell_type": "code",
   "execution_count": 138,
   "metadata": {
    "collapsed": true
   },
   "outputs": [],
   "source": [
    "batch_size = 7\n",
    "k = 0\n",
    "\n",
    "def plot_shuffled_batch_training(k):\n",
    "    figsize(8, 8)\n",
    "\n",
    "    plt.subplot2grid((8, 12), (2, 0), colspan=3, rowspan=4)\n",
    "\n",
    "    M = df.drop('cell', 1) * 0\n",
    "    for i, j in zip(long_s.iloc[k * batch_size:(k + 1) * batch_size].cell,\n",
    "                    long_s.iloc[k * batch_size:(k + 1) * batch_size].variable):\n",
    "        M.loc[i, j] = 1\n",
    "\n",
    "    plt.pcolor(M, edgecolor='k', cmap=cm.Greys, alpha=0.3, )\n",
    "\n",
    "    plt.gca().invert_yaxis();\n",
    "\n",
    "    plt.xticks(np.arange(4) + 0.5, np.arange(4));\n",
    "    plt.yticks(np.arange(10) + 0.5, np.arange(10));\n",
    "\n",
    "    plt.xlabel('Variable')\n",
    "    plt.ylabel('Observation');\n",
    "\n",
    "    plt.title('Wide form')\n",
    "\n",
    "    plt.subplot2grid((8, 12), (0, 5), colspan=2, rowspan=8)\n",
    "\n",
    "    M = long_s.values.astype(float) * 0\n",
    "    M[k * batch_size:(k + 1) * batch_size,:] = 1\n",
    "\n",
    "    plt.pcolor(M, edgecolor='k', cmap=cm.Greys, alpha=0.3, )\n",
    "    plt.gca().invert_yaxis();\n",
    "\n",
    "    plt.xticks(np.arange(3) + 0.5, ['variable', 'observation', 'value'], rotation=90);\n",
    "\n",
    "    plt.title('Long form\\n(Shuffled)');\n",
    "\n",
    "    plt.subplot2grid((8, 12), (4, 9), colspan=2, rowspan=1)\n",
    "\n",
    "    M = np.zeros((1, 4))\n",
    "    for i, j in zip(long_s.iloc[k * batch_size:(k + 1) * batch_size].cell,\n",
    "                    long_s.iloc[k * batch_size:(k + 1) * batch_size].variable):\n",
    "        M[0, j] = 1\n",
    "\n",
    "    plt.pcolor(M, edgecolor='k', cmap=cm.Reds, alpha=0.3, vmin=0, vmax=1)\n",
    "    plt.xticks(np.arange(4) + 0.5, np.arange(4));\n",
    "    plt.yticks([])\n",
    "    plt.title('Weights')\n",
    "\n",
    "    plt.subplot2grid((8, 12), (2, 11), colspan=1, rowspan=4)\n",
    "\n",
    "    M = np.zeros((10, 1))\n",
    "    for i, j in zip(long_s.iloc[k * batch_size:(k + 1) * batch_size].cell,\n",
    "                    long_s.iloc[k * batch_size:(k + 1) * batch_size].variable):\n",
    "        M[i, 0] = 1\n",
    "\n",
    "    plt.pcolor(M, edgecolor='k', cmap=cm.Reds, alpha=0.3, vmin=0, vmax=1)\n",
    "    plt.xticks([])\n",
    "    plt.yticks(np.arange(10) + 0.5, np.arange(10));\n",
    "    plt.gca().invert_yaxis();\n",
    "\n",
    "    plt.title('PC1')\n",
    "\n",
    "    plt.tight_layout()"
   ]
  },
  {
   "cell_type": "code",
   "execution_count": 139,
   "metadata": {},
   "outputs": [
    {
     "data": {
      "image/png": "[encoded data removed]",
      "text/plain": [
       "<matplotlib.figure.Figure at 0x1b627499eb8>"
      ]
     },
     "metadata": {},
     "output_type": "display_data"
    }
   ],
   "source": [
    "for k in range(6):\n",
    "    plot_shuffled_batch_training(k)\n",
    "    plt.savefig('shuffled_batches_long/{}.png'.format(k), bbox_inches='tight')"
   ]
  },
  {
   "cell_type": "code",
   "execution_count": null,
   "metadata": {
    "collapsed": true
   },
   "outputs": [],
   "source": []
  },
  {
   "cell_type": "code",
   "execution_count": null,
   "metadata": {
    "collapsed": true
   },
   "outputs": [],
   "source": []
  },
  {
   "cell_type": "code",
   "execution_count": 60,
   "metadata": {},
   "outputs": [
    {
     "data": {
      "image/png": "[encoded data removed]",
      "text/plain": [
       "<matplotlib.figure.Figure at 0x1b625626518>"
      ]
     },
     "metadata": {},
     "output_type": "display_data"
    }
   ],
   "source": [
    "figsize(2, 6)\n",
    "\n",
    "M = long_s.values.astype(float) * 0\n",
    "M[long_s.iloc[:5].index,:] = 1\n",
    "plt.pcolor(M, edgecolor='k', cmap=cm.Greys, alpha=0.3, )\n",
    "plt.gca().invert_yaxis();\n",
    "\n",
    "plt.xticks(np.arange(3) + 0.5, ['variable', 'observation', 'value'], rotation=30);"
   ]
  },
  {
   "cell_type": "code",
   "execution_count": 66,
   "metadata": {
    "collapsed": true
   },
   "outputs": [],
   "source": [
    "batch_size = 7\n",
    "k = 1"
   ]
  },
  {
   "cell_type": "code",
   "execution_count": 67,
   "metadata": {},
   "outputs": [
    {
     "data": {
      "image/png": "[encoded data removed]",
      "text/plain": [
       "<matplotlib.figure.Figure at 0x1b62688b668>"
      ]
     },
     "metadata": {},
     "output_type": "display_data"
    }
   ],
   "source": [
    "figsize(2, 6)\n",
    "\n",
    "M = long_s.values.astype(float) * 0\n",
    "M[k * batch_size:(k + 1) * batch_size,:] = 1\n",
    "plt.pcolor(M, edgecolor='k', cmap=cm.Greys, alpha=0.3, )\n",
    "plt.gca().invert_yaxis();\n",
    "\n",
    "plt.xticks(np.arange(3) + 0.5, ['variable', 'observation', 'value'], rotation=30);"
   ]
  },
  {
   "cell_type": "code",
   "execution_count": null,
   "metadata": {
    "collapsed": true
   },
   "outputs": [],
   "source": []
  },
  {
   "cell_type": "code",
   "execution_count": 56,
   "metadata": {},
   "outputs": [
    {
     "data": {
      "image/png": "[encoded data removed]",
      "text/plain": [
       "<matplotlib.figure.Figure at 0x1b626828ef0>"
      ]
     },
     "metadata": {},
     "output_type": "display_data"
    }
   ],
   "source": [
    "figsize(4, 4)\n",
    "\n",
    "M = df.drop('cell', 1) * 0\n",
    "for i, j in zip(long_s.iloc[k * batch_size:(k + 1) * batch_size].cell,\n",
    "                long_s.iloc[k * batch_size:(k + 1) * batch_size].variable):\n",
    "    M.loc[i, j] = 1\n",
    "\n",
    "plt.pcolor(M, edgecolor='k', cmap=cm.Greys, alpha=0.3, )\n",
    "plt.gca().invert_yaxis();\n",
    "\n",
    "plt.xticks(np.arange(4) + 0.5, np.arange(4));\n",
    "plt.yticks(np.arange(10) + 0.5, np.arange(10));"
   ]
  },
  {
   "cell_type": "code",
   "execution_count": null,
   "metadata": {
    "collapsed": true
   },
   "outputs": [],
   "source": []
  },
  {
   "cell_type": "code",
   "execution_count": null,
   "metadata": {
    "collapsed": true
   },
   "outputs": [],
   "source": []
  },
  {
   "cell_type": "code",
   "execution_count": null,
   "metadata": {
    "collapsed": true
   },
   "outputs": [],
   "source": []
  }
 ],
 "metadata": {
  "kernelspec": {
   "display_name": "Python [conda root]",
   "language": "python",
   "name": "conda-root-py"
  },
  "language_info": {
   "codemirror_mode": {
    "name": "ipython",
    "version": 3
   },
   "file_extension": ".py",
   "mimetype": "text/x-python",
   "name": "python",
   "nbconvert_exporter": "python",
   "pygments_lexer": "ipython3",
   "version": "3.5.2"
  }
 },
 "nbformat": 4,
 "nbformat_minor": 2
}
